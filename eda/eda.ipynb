{
 "cells": [
  {
   "cell_type": "code",
   "execution_count": 1,
   "id": "2a1d84f7-8556-42f5-92d2-0010d9402807",
   "metadata": {},
   "outputs": [],
   "source": [
    "import pandas as pd\n",
    "import numpy as np\n",
    "import matplotlib.pyplot as plt\n",
    "import seaborn as sns\n",
    "from langchain.output_parsers import PydanticOutputParser\n",
    "from langchain_core.prompts import PromptTemplate\n",
    "from langchain_openai import ChatOpenAI\n",
    "from pydantic import BaseModel, Field\n",
    "from enum import StrEnum"
   ]
  },
  {
   "cell_type": "markdown",
   "id": "c9c7a2d4-563f-4ef9-ac5c-ccd7e4a89a13",
   "metadata": {},
   "source": [
    "## Отбор наблюдений в выборку"
   ]
  },
  {
   "cell_type": "code",
   "execution_count": 4,
   "id": "8c4bc42f-21e7-478b-b8ff-dd43acba1f73",
   "metadata": {},
   "outputs": [
    {
     "data": {
      "text/html": [
       "<div>\n",
       "<style scoped>\n",
       "    .dataframe tbody tr th:only-of-type {\n",
       "        vertical-align: middle;\n",
       "    }\n",
       "\n",
       "    .dataframe tbody tr th {\n",
       "        vertical-align: top;\n",
       "    }\n",
       "\n",
       "    .dataframe thead th {\n",
       "        text-align: right;\n",
       "    }\n",
       "</style>\n",
       "<table border=\"1\" class=\"dataframe\">\n",
       "  <thead>\n",
       "    <tr style=\"text-align: right;\">\n",
       "      <th></th>\n",
       "      <th>name</th>\n",
       "      <th>price</th>\n",
       "      <th>brand</th>\n",
       "      <th>rating</th>\n",
       "      <th>kcal</th>\n",
       "      <th>package</th>\n",
       "      <th>type</th>\n",
       "      <th>cocoa</th>\n",
       "      <th>Состав</th>\n",
       "    </tr>\n",
       "  </thead>\n",
       "  <tbody>\n",
       "    <tr>\n",
       "      <th>0</th>\n",
       "      <td>Шоколад белый Миндаль и кокос Alpen Gold 80г</td>\n",
       "      <td>74.99</td>\n",
       "      <td>Alpen Gold</td>\n",
       "      <td>4.8</td>\n",
       "      <td>545.0</td>\n",
       "      <td>флоупак</td>\n",
       "      <td>Белый</td>\n",
       "      <td>22.0</td>\n",
       "      <td>Сахар, масло какао, сыворотка сухая молочная, ...</td>\n",
       "    </tr>\n",
       "    <tr>\n",
       "      <th>1</th>\n",
       "      <td>Шоколад белый пористый Россия щедрая душа 75г</td>\n",
       "      <td>74.99</td>\n",
       "      <td>Россия Щедрая Душа</td>\n",
       "      <td>4.8</td>\n",
       "      <td>545.0</td>\n",
       "      <td>флоупак</td>\n",
       "      <td>Белый</td>\n",
       "      <td>25.0</td>\n",
       "      <td>Сахар, масло какао, молоко сухое цельное, сыво...</td>\n",
       "    </tr>\n",
       "    <tr>\n",
       "      <th>2</th>\n",
       "      <td>Шоколад Классический Чизкейк Alpen Gold 85/90г</td>\n",
       "      <td>74.99</td>\n",
       "      <td>Alpen Gold</td>\n",
       "      <td>4.8</td>\n",
       "      <td>533.0</td>\n",
       "      <td>флоупак</td>\n",
       "      <td>Молочный</td>\n",
       "      <td>25.0</td>\n",
       "      <td>Сахар, жир растительный (масло пальмовое), печ...</td>\n",
       "    </tr>\n",
       "    <tr>\n",
       "      <th>3</th>\n",
       "      <td>Шоколад молочный Россия щедрая душа 82г</td>\n",
       "      <td>79.99</td>\n",
       "      <td>Россия Щедрая Душа</td>\n",
       "      <td>4.8</td>\n",
       "      <td>539.0</td>\n",
       "      <td>флоупак</td>\n",
       "      <td>Молочный</td>\n",
       "      <td>27.0</td>\n",
       "      <td>Сахар, масло какао, молоко сухое цельное, кака...</td>\n",
       "    </tr>\n",
       "    <tr>\n",
       "      <th>4</th>\n",
       "      <td>Шоколад белый Gold Selection Дуэт в клубнике Р...</td>\n",
       "      <td>88.99</td>\n",
       "      <td>Россия Щедрая Душа</td>\n",
       "      <td>4.8</td>\n",
       "      <td>543.0</td>\n",
       "      <td>флоупак</td>\n",
       "      <td>Белый</td>\n",
       "      <td>20.0</td>\n",
       "      <td>Сахар, масло какао, молоко сухое цельное, сыво...</td>\n",
       "    </tr>\n",
       "  </tbody>\n",
       "</table>\n",
       "</div>"
      ],
      "text/plain": [
       "                                                name  price  \\\n",
       "0       Шоколад белый Миндаль и кокос Alpen Gold 80г  74.99   \n",
       "1      Шоколад белый пористый Россия щедрая душа 75г  74.99   \n",
       "2     Шоколад Классический Чизкейк Alpen Gold 85/90г  74.99   \n",
       "3            Шоколад молочный Россия щедрая душа 82г  79.99   \n",
       "4  Шоколад белый Gold Selection Дуэт в клубнике Р...  88.99   \n",
       "\n",
       "                brand  rating   kcal  package      type  cocoa  \\\n",
       "0          Alpen Gold     4.8  545.0  флоупак     Белый   22.0   \n",
       "1  Россия Щедрая Душа     4.8  545.0  флоупак     Белый   25.0   \n",
       "2          Alpen Gold     4.8  533.0  флоупак  Молочный   25.0   \n",
       "3  Россия Щедрая Душа     4.8  539.0  флоупак  Молочный   27.0   \n",
       "4  Россия Щедрая Душа     4.8  543.0  флоупак     Белый   20.0   \n",
       "\n",
       "                                              Состав  \n",
       "0  Сахар, масло какао, сыворотка сухая молочная, ...  \n",
       "1  Сахар, масло какао, молоко сухое цельное, сыво...  \n",
       "2  Сахар, жир растительный (масло пальмовое), печ...  \n",
       "3  Сахар, масло какао, молоко сухое цельное, кака...  \n",
       "4  Сахар, масло какао, молоко сухое цельное, сыво...  "
      ]
     },
     "execution_count": 4,
     "metadata": {},
     "output_type": "execute_result"
    }
   ],
   "source": [
    "data = pd.read_csv('final_products_05_05_2025_09_59.csv')\n",
    "data = data[(data['Вес (кг)'] <= 0.1) & (data['Вес (кг)']>= 0.075)]\n",
    "data = data[data['Тип'] == 'Шоколадная плитка']\n",
    "data = data.reset_index()[['Название', 'Текущая цена', 'Бренд', 'Рейтинг', 'Ккал', 'Упаковка', 'Тип шоколада', 'Какао (%)', \\\n",
    "        'Состав']].rename(columns={'Название': 'name', 'Текущая цена': 'price', 'Бренд': 'brand', 'Рейтинг': 'rating', 'Ккал': 'kcal', \\\n",
    "        'Упаковка': 'package', 'Тип шоколада': 'type', 'Какао (%)': 'cocoa', 'Состав': 'Состав'})\n",
    "data.head(5)"
   ]
  },
  {
   "cell_type": "markdown",
   "id": "3650da55-aa17-4243-a847-d9fdb111844b",
   "metadata": {},
   "source": [
    "## Формирование и графический анализ признаков"
   ]
  },
  {
   "cell_type": "markdown",
   "id": "64de74f7-6623-46e7-ae1d-75eda1aec9d3",
   "metadata": {},
   "source": [
    "### Российский бренд:"
   ]
  },
  {
   "cell_type": "code",
   "execution_count": 8,
   "id": "279e917f-a655-426d-b369-a592125113dc",
   "metadata": {},
   "outputs": [],
   "source": [
    "rus_brands = ['Alpen Gold', 'Россия Щедрая Душа', 'Бабаевский', 'Степ', 'Особый', 'Babyfox', 'Алёнка', 'Milk Story', 'Хрутка', 'Победа', \\\n",
    "        'Ozera', 'Вдохновение', 'Eco Botanica', 'Dy Nastie', 'Победа Вкуса', 'Red Delight', 'Белочка', 'Libertad', 'Рот Фронт', 'Славянка', \\\n",
    "       'Монетный Двор', 'Развивайка']\n",
    "data['rus_brand'] = data['brand'].map(lambda x: 1 if x in rus_brands else 0)"
   ]
  },
  {
   "cell_type": "code",
   "execution_count": 10,
   "id": "2c76a874-2753-4281-a0f5-bf4c502ff257",
   "metadata": {},
   "outputs": [
    {
     "data": {
      "text/plain": [
       "60.12"
      ]
     },
     "execution_count": 10,
     "metadata": {},
     "output_type": "execute_result"
    }
   ],
   "source": [
    "round((data['rus_brand'].sum() / data.shape[0]) * 100, 2)"
   ]
  },
  {
   "cell_type": "markdown",
   "id": "d40d7d40-8f69-492b-a161-21ae2847485f",
   "metadata": {},
   "source": [
    "60.12% всех шоколадок в выборке выпускаются российскими брендами."
   ]
  },
  {
   "cell_type": "markdown",
   "id": "1da28b3c-2637-4dc1-8298-dba6ef581467",
   "metadata": {},
   "source": [
    "### Тип шоколада:"
   ]
  },
  {
   "cell_type": "code",
   "execution_count": 14,
   "id": "da18e9d5-bab5-47b9-8aab-fb27f466e932",
   "metadata": {},
   "outputs": [
    {
     "data": {
      "text/plain": [
       "type\n",
       "Молочный    103\n",
       "Темный       28\n",
       "Горький      18\n",
       "Белый        14\n",
       "NaN           5\n",
       "Name: count, dtype: int64"
      ]
     },
     "execution_count": 14,
     "metadata": {},
     "output_type": "execute_result"
    }
   ],
   "source": [
    "data['type'].value_counts(dropna=False)"
   ]
  },
  {
   "cell_type": "markdown",
   "id": "8a3a003a-666d-4aae-8212-053f6e7d1568",
   "metadata": {},
   "source": [
    "Для 5 наблюдений из выборки значение данного признака пропущено. Посмотрим на данные наблюдения подробнее."
   ]
  },
  {
   "cell_type": "code",
   "execution_count": 17,
   "id": "d28f4c10-8b31-421b-9bdb-6f292a80a6aa",
   "metadata": {},
   "outputs": [
    {
     "data": {
      "text/html": [
       "<div>\n",
       "<style scoped>\n",
       "    .dataframe tbody tr th:only-of-type {\n",
       "        vertical-align: middle;\n",
       "    }\n",
       "\n",
       "    .dataframe tbody tr th {\n",
       "        vertical-align: top;\n",
       "    }\n",
       "\n",
       "    .dataframe thead th {\n",
       "        text-align: right;\n",
       "    }\n",
       "</style>\n",
       "<table border=\"1\" class=\"dataframe\">\n",
       "  <thead>\n",
       "    <tr style=\"text-align: right;\">\n",
       "      <th></th>\n",
       "      <th>name</th>\n",
       "      <th>type</th>\n",
       "    </tr>\n",
       "  </thead>\n",
       "  <tbody>\n",
       "    <tr>\n",
       "      <th>9</th>\n",
       "      <td>Шоколад молочный и белый пористый Россия щедра...</td>\n",
       "      <td>NaN</td>\n",
       "    </tr>\n",
       "    <tr>\n",
       "      <th>16</th>\n",
       "      <td>Шоколад Трилогия Schogetten 100г</td>\n",
       "      <td>NaN</td>\n",
       "    </tr>\n",
       "    <tr>\n",
       "      <th>37</th>\n",
       "      <td>Шоколад Мороженое Schogetten 100г</td>\n",
       "      <td>NaN</td>\n",
       "    </tr>\n",
       "    <tr>\n",
       "      <th>156</th>\n",
       "      <td>Набор Маша и медведь шоколадный молочный Монет...</td>\n",
       "      <td>NaN</td>\n",
       "    </tr>\n",
       "    <tr>\n",
       "      <th>157</th>\n",
       "      <td>Шоколад молочный набор Развивайка 75г</td>\n",
       "      <td>NaN</td>\n",
       "    </tr>\n",
       "  </tbody>\n",
       "</table>\n",
       "</div>"
      ],
      "text/plain": [
       "                                                  name type\n",
       "9    Шоколад молочный и белый пористый Россия щедра...  NaN\n",
       "16                    Шоколад Трилогия Schogetten 100г  NaN\n",
       "37                   Шоколад Мороженое Schogetten 100г  NaN\n",
       "156  Набор Маша и медведь шоколадный молочный Монет...  NaN\n",
       "157              Шоколад молочный набор Развивайка 75г  NaN"
      ]
     },
     "execution_count": 17,
     "metadata": {},
     "output_type": "execute_result"
    }
   ],
   "source": [
    "data[data['type'].isna()][['name', 'type']]"
   ]
  },
  {
   "cell_type": "markdown",
   "id": "91e03728-ea43-48f7-98e4-962f4bd94966",
   "metadata": {},
   "source": [
    "В 3 из данных шоколадок действительно смешаны несколько типов шоколада, поэтому однозначно отнести их к одному из типов не получится. Оставшиеся 2 не являются классическими шоколадными плитками и выпускаются в подарочной упаковке, что может привести к гетероскедастичности, поэтому разумно было бы исключить данные наблюдения уже сейчас. Так как наблюдений с пропущенным значением всего 5, можем удалить их из выборки во избежание нарушения методологии."
   ]
  },
  {
   "cell_type": "code",
   "execution_count": 20,
   "id": "ce0b6b7b-e2e8-43e5-a6d9-0fe4e695cc0c",
   "metadata": {},
   "outputs": [],
   "source": [
    "data = data[~data['type'].isna()].reset_index().drop(columns='index')"
   ]
  },
  {
   "cell_type": "code",
   "execution_count": 22,
   "id": "f78b5716-a95f-4c35-8927-ffda4350a3aa",
   "metadata": {},
   "outputs": [
    {
     "data": {
      "image/png": "[encoded data removed]",
      "text/plain": [
       "<Figure size 640x480 with 1 Axes>"
      ]
     },
     "metadata": {},
     "output_type": "display_data"
    }
   ],
   "source": [
    "freq = data['type'].value_counts()\n",
    "plt.barh(freq.index, freq, color='skyblue')\n",
    "\n",
    "plt.xlabel('Количество')\n",
    "plt.title('Количество шоколада в выборке по типам шоколада')\n",
    "\n",
    "plt.tight_layout()\n",
    "plt.show()"
   ]
  },
  {
   "cell_type": "markdown",
   "id": "6946cdc7-f609-4ec9-84c1-7077c024b50f",
   "metadata": {},
   "source": [
    "### Калорийность:"
   ]
  },
  {
   "cell_type": "code",
   "execution_count": 25,
   "id": "a42ec13f-dc5e-4f3e-a97d-947a4e674299",
   "metadata": {},
   "outputs": [
    {
     "data": {
      "image/png": "[encoded data removed]",
      "text/plain": [
       "<Figure size 1000x600 with 1 Axes>"
      ]
     },
     "metadata": {},
     "output_type": "display_data"
    }
   ],
   "source": [
    "sns.set(style='whitegrid')\n",
    "plt.figure(figsize=(10, 6))\n",
    "sns.histplot(data['kcal'], bins=30, kde=True, color='royalblue', edgecolor='black')\n",
    "\n",
    "plt.title('Гистограмма распределения калорийности шоколада', fontsize=16)\n",
    "plt.xlabel('Значение', fontsize=12)\n",
    "plt.ylabel('Частота', fontsize=12)\n",
    "\n",
    "plt.grid(True, linestyle='--', alpha=0.6)\n",
    "plt.tight_layout()\n",
    "plt.show()"
   ]
  },
  {
   "cell_type": "code",
   "execution_count": 27,
   "id": "4f61e59e-ef68-4cbf-8641-a44faa4e3212",
   "metadata": {},
   "outputs": [
    {
     "data": {
      "text/html": [
       "<div>\n",
       "<style scoped>\n",
       "    .dataframe tbody tr th:only-of-type {\n",
       "        vertical-align: middle;\n",
       "    }\n",
       "\n",
       "    .dataframe tbody tr th {\n",
       "        vertical-align: top;\n",
       "    }\n",
       "\n",
       "    .dataframe thead th {\n",
       "        text-align: right;\n",
       "    }\n",
       "</style>\n",
       "<table border=\"1\" class=\"dataframe\">\n",
       "  <thead>\n",
       "    <tr style=\"text-align: right;\">\n",
       "      <th></th>\n",
       "      <th>mean</th>\n",
       "      <th>std</th>\n",
       "      <th>min</th>\n",
       "      <th>25%</th>\n",
       "      <th>50%</th>\n",
       "      <th>75%</th>\n",
       "      <th>max</th>\n",
       "    </tr>\n",
       "  </thead>\n",
       "  <tbody>\n",
       "    <tr>\n",
       "      <th>kcal</th>\n",
       "      <td>537.196319</td>\n",
       "      <td>38.424988</td>\n",
       "      <td>261.0</td>\n",
       "      <td>521.5</td>\n",
       "      <td>540.0</td>\n",
       "      <td>559.0</td>\n",
       "      <td>670.0</td>\n",
       "    </tr>\n",
       "  </tbody>\n",
       "</table>\n",
       "</div>"
      ],
      "text/plain": [
       "            mean        std    min    25%    50%    75%    max\n",
       "kcal  537.196319  38.424988  261.0  521.5  540.0  559.0  670.0"
      ]
     },
     "execution_count": 27,
     "metadata": {},
     "output_type": "execute_result"
    }
   ],
   "source": [
    "desc = pd.DataFrame(data['kcal'].describe())\n",
    "desc_df = desc.transpose()\n",
    "pd.DataFrame(desc_df).drop(columns='count')"
   ]
  },
  {
   "cell_type": "markdown",
   "id": "41bf5b3a-7774-43ef-8be7-f9b77cd137db",
   "metadata": {},
   "source": [
    "Как можно увидеть, калорийность для всех наблюдений кроме 3 сосредоточена между 470 и 593. Описательные статистики приведены выше."
   ]
  },
  {
   "cell_type": "markdown",
   "id": "30cd2732-a67d-49e2-be74-310f7035e64a",
   "metadata": {},
   "source": [
    "### Добавки:"
   ]
  },
  {
   "cell_type": "markdown",
   "id": "0ece0088-65c0-42b4-8673-754807e72138",
   "metadata": {},
   "source": [
    "Будем доставать информацию о имеющихся добавках из названий шоколадок при помощи LLM. Определим 5 основных категорий добавок:\n",
    "1. Орехи\n",
    "2. Ягоды и сухофрукты\n",
    "3. Снеки\n",
    "4. Десертные начинки\n",
    "5. Экзотические начинки\n",
    "\n",
    "Для каждой шоколадки соберем список из имеющихся добавок в соответствии с категориями выше."
   ]
  },
  {
   "cell_type": "code",
   "execution_count": 32,
   "id": "39bf7f2d-c410-4b87-91b3-ff88437a6457",
   "metadata": {},
   "outputs": [],
   "source": [
    "def filling(name):    \n",
    "    class Type(StrEnum):\n",
    "        NUTS = \"NUTS\"\n",
    "        BERRIES = \"BERRIES\"\n",
    "        SNACKS = \"SNACKS\"\n",
    "        DESSERT = \"DESSERT\"\n",
    "        EXOTIC = \"EXOTIC\"\n",
    "        NO_FILLING = \"NO_FILLING\"\n",
    "    \n",
    "    class AIOutput(BaseModel):\n",
    "        Types: list[Type]\n",
    "    \n",
    "    text_prompt = \"\"\"\n",
    "        У тебя есть название шоколадки. Определи все начинки, содержащиеся в шоколаде, по категориям, представленным ниже.\n",
    "        То есть отнести все элементы из начинки шоколадки по соответствующим категориям, после чего верни список из всех категорий,\n",
    "        элементы которых встречаются в начинке шоколадки.\n",
    "        \n",
    "        1. NUTS, если начинка содержит орехи, например:\n",
    "        Миндаль, Фундук, Лесной орех, Кешью , Арахис, Фисташки, Грецкий орех\n",
    "        При этом, если начинка является десертной со вкусом ореха, тебе не стоит относить начинку к данной категории.\n",
    "        \n",
    "        2. BERRIES, если начинка содержит ягоды или сухофрукты, например: \n",
    "        Клубника, Малина, Вишня, Черника, Клюква, Изюм  \n",
    "        При этом, если ягода используется в йогуртовой начинке, тебе не стоит относить начинку к данной категории\n",
    "        \n",
    "        3. SNACKS, если начинка содержит печенье, вафли или другие хрустящие элементы, например:  \n",
    "        Печенье, Вафли, Воздушный рис, Хлопья\n",
    "        \n",
    "        4. DESSERT, если начинка содержит йогуртовую или десертную начинку, например: \n",
    "        Йогуртные начинки с разными вкусами, начинки помадка, тирамису, крем-брюле и тд \n",
    "        \n",
    "        5. EXOTIC, если начинка является достаточно экзотической и нечасто встречается в шоколаде, например:\n",
    "        Лаванда, Роза, Мёд, Матча, Тыквенные семечки, Кунжут и т.д.\n",
    "        \n",
    "        6. NO_FILLING, если шоколад не содержит никакой начинки из вышеперечисленных категорий\n",
    "    \n",
    "        Название шоколадки:\n",
    "                {name}\n",
    "    \n",
    "        <FORMAT_INSTRUCTIONS>:\n",
    "                {format_instructions}\n",
    "    \"\"\"\n",
    "    \n",
    "    \n",
    "    model = ChatOpenAI(model=\"gpt-4.1\", api_key=OPENAI_API_KEY)\n",
    "    parser = PydanticOutputParser(pydantic_object=AIOutput)\n",
    "    \n",
    "    prompt = PromptTemplate(\n",
    "        template=text_prompt,\n",
    "        input_variables=[\"name\"],\n",
    "        partial_variables={\n",
    "            \"format_instructions\": parser.get_format_instructions(),\n",
    "        }\n",
    "    )\n",
    "    \n",
    "    chain = prompt | model | parser\n",
    "    \n",
    "    result = chain.invoke({\n",
    "            \"name\": name\n",
    "            })\n",
    "    \n",
    "    ans = []\n",
    "    for t in result.Types:\n",
    "        ans.append(str(t))\n",
    "\n",
    "    return ans"
   ]
  },
  {
   "cell_type": "code",
   "execution_count": 34,
   "id": "943f8350-432d-4da9-af95-f6e1dc9e7c09",
   "metadata": {},
   "outputs": [],
   "source": [
    "# data['filling'] = data['name'].map(lambda x: filling(x))\n",
    "# filling = {data.loc[ind]['name']: data.loc[ind]['filling'] for ind in data.index}\n",
    "# with open('fillings.json', \"w\", encoding=\"utf-8\") as json_file:\n",
    "#     json.dump(filling, json_file, indent=4, ensure_ascii=False)"
   ]
  },
  {
   "cell_type": "code",
   "execution_count": 36,
   "id": "b9ce0823-4a2e-4fce-8631-d10edea301be",
   "metadata": {},
   "outputs": [],
   "source": [
    "with open('fillings.json', \"r\", encoding=\"utf-8\") as json_file:\n",
    "     filling = json.load(json_file)"
   ]
  },
  {
   "cell_type": "code",
   "execution_count": 38,
   "id": "0dac51cd-3e84-40e7-be8b-ae01efa0a917",
   "metadata": {},
   "outputs": [],
   "source": [
    "data['filling'] = data['name'].map(filling)\n",
    "data['filling_NUTS'] = data['filling'].map(lambda x: 1 if 'NUTS' in x else 0)\n",
    "data['filling_BERRIES'] = data['filling'].map(lambda x: 1 if 'BERRIES' in x else 0)\n",
    "data['filling_SNACKS'] = data['filling'].map(lambda x: 1 if 'SNACKS' in x else 0)\n",
    "data['filling_DESSERT'] = data['filling'].map(lambda x: 1 if 'DESSERT' in x else 0)\n",
    "data['filling_EXOTIC'] = data['filling'].map(lambda x: 1 if 'EXOTIC' in x else 0)"
   ]
  },
  {
   "cell_type": "code",
   "execution_count": 40,
   "id": "e58d9fb2-5fdf-41ec-b55b-b291f46a5fa8",
   "metadata": {},
   "outputs": [
    {
     "data": {
      "text/plain": [
       "44.17"
      ]
     },
     "execution_count": 40,
     "metadata": {},
     "output_type": "execute_result"
    }
   ],
   "source": [
    "round((data['filling_NUTS'].sum() / data.shape[0]) * 100, 2)"
   ]
  },
  {
   "cell_type": "markdown",
   "id": "30060406-d5eb-4b82-94ab-e8da21a92587",
   "metadata": {},
   "source": [
    "44.17% всех шоколадок в выборке содержат орехи в начинке."
   ]
  },
  {
   "cell_type": "code",
   "execution_count": 43,
   "id": "38e24d0a-00bb-48bf-bd36-81350fdd2133",
   "metadata": {},
   "outputs": [
    {
     "data": {
      "text/plain": [
       "14.11"
      ]
     },
     "execution_count": 43,
     "metadata": {},
     "output_type": "execute_result"
    }
   ],
   "source": [
    "round((data['filling_BERRIES'].sum() / data.shape[0]) * 100, 2)"
   ]
  },
  {
   "cell_type": "markdown",
   "id": "d55ed50f-82b0-441e-9ae3-7f773380a23a",
   "metadata": {},
   "source": [
    "14.11% всех шоколадок в выборке содержат ягоды или сухофрукты в начинке."
   ]
  },
  {
   "cell_type": "code",
   "execution_count": 46,
   "id": "23174d80-7277-4943-bf35-a7c0b68a95bd",
   "metadata": {},
   "outputs": [
    {
     "data": {
      "text/plain": [
       "13.5"
      ]
     },
     "execution_count": 46,
     "metadata": {},
     "output_type": "execute_result"
    }
   ],
   "source": [
    "round((data['filling_SNACKS'].sum() / data.shape[0]) * 100, 2)"
   ]
  },
  {
   "cell_type": "markdown",
   "id": "04b4e5ca-046d-46db-a4d0-42e2e68575ab",
   "metadata": {
    "scrolled": true
   },
   "source": [
    "13.5% всех шоколадок в выборке содержат снеки в начинке."
   ]
  },
  {
   "cell_type": "code",
   "execution_count": 49,
   "id": "997a9705-2613-400b-84ab-03eb7ba90861",
   "metadata": {},
   "outputs": [
    {
     "data": {
      "text/plain": [
       "22.7"
      ]
     },
     "execution_count": 49,
     "metadata": {},
     "output_type": "execute_result"
    }
   ],
   "source": [
    "round((data['filling_DESSERT'].sum() / data.shape[0]) * 100, 2)"
   ]
  },
  {
   "cell_type": "markdown",
   "id": "9abe303a-93b2-4950-b165-04d34d27ba1e",
   "metadata": {},
   "source": [
    "27.7% всех шоколадок в выборке содержат десертную начинку."
   ]
  },
  {
   "cell_type": "code",
   "execution_count": 52,
   "id": "6ae99b8f-4fc7-46c6-9eb8-275fb1b78727",
   "metadata": {},
   "outputs": [
    {
     "data": {
      "text/plain": [
       "16.56"
      ]
     },
     "execution_count": 52,
     "metadata": {},
     "output_type": "execute_result"
    }
   ],
   "source": [
    "round((data['filling_EXOTIC'].sum() / data.shape[0]) * 100, 2)"
   ]
  },
  {
   "cell_type": "markdown",
   "id": "368b7487-f3db-41aa-9536-04ec0426fdc7",
   "metadata": {},
   "source": [
    "16.56% всех шоколадок в выборке содержат нестандартную начинку."
   ]
  },
  {
   "cell_type": "markdown",
   "id": "1b8c3f89-d0db-4f0b-b652-3a4ecef2d16c",
   "metadata": {},
   "source": [
    "### Содержание какао:"
   ]
  },
  {
   "cell_type": "code",
   "execution_count": 56,
   "id": "50418f0c-33b4-4541-9800-7825f211c794",
   "metadata": {},
   "outputs": [
    {
     "data": {
      "text/plain": [
       "22"
      ]
     },
     "execution_count": 56,
     "metadata": {},
     "output_type": "execute_result"
    }
   ],
   "source": [
    "data['cocoa'].isna().sum()"
   ]
  },
  {
   "cell_type": "markdown",
   "id": "afe0a5ed-9d6c-4af6-8ea4-6b9caa7737e7",
   "metadata": {},
   "source": [
    "Для 22 наблюдений из выборки значение данного признака пропущено. Посмотрим на данные наблюдения подробнее."
   ]
  },
  {
   "cell_type": "code",
   "execution_count": 59,
   "id": "ed1a5873-0c54-4d64-91ca-c7b87267e3e1",
   "metadata": {
    "scrolled": true
   },
   "outputs": [
    {
     "data": {
      "text/html": [
       "<div>\n",
       "<style scoped>\n",
       "    .dataframe tbody tr th:only-of-type {\n",
       "        vertical-align: middle;\n",
       "    }\n",
       "\n",
       "    .dataframe tbody tr th {\n",
       "        vertical-align: top;\n",
       "    }\n",
       "\n",
       "    .dataframe thead th {\n",
       "        text-align: right;\n",
       "    }\n",
       "</style>\n",
       "<table border=\"1\" class=\"dataframe\">\n",
       "  <thead>\n",
       "    <tr style=\"text-align: right;\">\n",
       "      <th></th>\n",
       "      <th>name</th>\n",
       "      <th>price</th>\n",
       "      <th>brand</th>\n",
       "      <th>rating</th>\n",
       "      <th>kcal</th>\n",
       "      <th>package</th>\n",
       "      <th>type</th>\n",
       "      <th>cocoa</th>\n",
       "      <th>Состав</th>\n",
       "      <th>rus_brand</th>\n",
       "      <th>filling</th>\n",
       "      <th>filling_NUTS</th>\n",
       "      <th>filling_BERRIES</th>\n",
       "      <th>filling_SNACKS</th>\n",
       "      <th>filling_DESSERT</th>\n",
       "      <th>filling_EXOTIC</th>\n",
       "    </tr>\n",
       "  </thead>\n",
       "  <tbody>\n",
       "    <tr>\n",
       "      <th>24</th>\n",
       "      <td>Шоколад White Chocolate белый Schogetten 100г</td>\n",
       "      <td>134.99</td>\n",
       "      <td>Schogetten</td>\n",
       "      <td>4.9</td>\n",
       "      <td>555.0</td>\n",
       "      <td>картонная упаковка</td>\n",
       "      <td>Белый</td>\n",
       "      <td>NaN</td>\n",
       "      <td>Сахар, какао-масло, сухое обезжиренное молоко,...</td>\n",
       "      <td>0</td>\n",
       "      <td>[NO_FILLING]</td>\n",
       "      <td>0</td>\n",
       "      <td>0</td>\n",
       "      <td>0</td>\n",
       "      <td>0</td>\n",
       "      <td>0</td>\n",
       "    </tr>\n",
       "    <tr>\n",
       "      <th>35</th>\n",
       "      <td>Шоколад Aerated белый пористый Alpen Gold 75г</td>\n",
       "      <td>89.99</td>\n",
       "      <td>Alpen Gold</td>\n",
       "      <td>4.8</td>\n",
       "      <td>527.0</td>\n",
       "      <td>флоупак</td>\n",
       "      <td>Белый</td>\n",
       "      <td>NaN</td>\n",
       "      <td>Сахар, масло какао, сыворотка сухая молочная, ...</td>\n",
       "      <td>1</td>\n",
       "      <td>[NO_FILLING]</td>\n",
       "      <td>0</td>\n",
       "      <td>0</td>\n",
       "      <td>0</td>\n",
       "      <td>0</td>\n",
       "      <td>0</td>\n",
       "    </tr>\n",
       "    <tr>\n",
       "      <th>40</th>\n",
       "      <td>Шоколад молочный с кокосовой начинкой и вафлей...</td>\n",
       "      <td>59.99</td>\n",
       "      <td>Milk Story</td>\n",
       "      <td>4.6</td>\n",
       "      <td>550.0</td>\n",
       "      <td>флоупак</td>\n",
       "      <td>Молочный</td>\n",
       "      <td>NaN</td>\n",
       "      <td>Сахар, масло пальмовое, масло какао, сыворотка...</td>\n",
       "      <td>1</td>\n",
       "      <td>[SNACKS, EXOTIC]</td>\n",
       "      <td>0</td>\n",
       "      <td>0</td>\n",
       "      <td>1</td>\n",
       "      <td>0</td>\n",
       "      <td>1</td>\n",
       "    </tr>\n",
       "    <tr>\n",
       "      <th>42</th>\n",
       "      <td>Шоколад белый Schogetten Chai Latte 100г</td>\n",
       "      <td>149.99</td>\n",
       "      <td>Schogetten</td>\n",
       "      <td>4.2</td>\n",
       "      <td>561.0</td>\n",
       "      <td>картонная упаковка</td>\n",
       "      <td>Белый</td>\n",
       "      <td>NaN</td>\n",
       "      <td>Сахар, пальмовый жир, сухое цельное молоко, ка...</td>\n",
       "      <td>0</td>\n",
       "      <td>[DESSERT, EXOTIC]</td>\n",
       "      <td>0</td>\n",
       "      <td>0</td>\n",
       "      <td>0</td>\n",
       "      <td>1</td>\n",
       "      <td>1</td>\n",
       "    </tr>\n",
       "    <tr>\n",
       "      <th>64</th>\n",
       "      <td>Шоколад Клубничный йогурт Schogetten 100г</td>\n",
       "      <td>119.99</td>\n",
       "      <td>Schogetten</td>\n",
       "      <td>4.8</td>\n",
       "      <td>563.0</td>\n",
       "      <td>картонная упаковка</td>\n",
       "      <td>Молочный</td>\n",
       "      <td>NaN</td>\n",
       "      <td>Сахар, пальмовый жир, какао-масло, сухое йогур...</td>\n",
       "      <td>0</td>\n",
       "      <td>[DESSERT]</td>\n",
       "      <td>0</td>\n",
       "      <td>0</td>\n",
       "      <td>0</td>\n",
       "      <td>1</td>\n",
       "      <td>0</td>\n",
       "    </tr>\n",
       "    <tr>\n",
       "      <th>67</th>\n",
       "      <td>Шоколад молочный Popcorn Schogetten 100г</td>\n",
       "      <td>149.99</td>\n",
       "      <td>Schogetten</td>\n",
       "      <td>4.7</td>\n",
       "      <td>554.0</td>\n",
       "      <td>картонная упаковка</td>\n",
       "      <td>Молочный</td>\n",
       "      <td>NaN</td>\n",
       "      <td>Сахар, пальмовый жир, сухое цельное молоко, ка...</td>\n",
       "      <td>0</td>\n",
       "      <td>[SNACKS]</td>\n",
       "      <td>0</td>\n",
       "      <td>0</td>\n",
       "      <td>1</td>\n",
       "      <td>0</td>\n",
       "      <td>0</td>\n",
       "    </tr>\n",
       "    <tr>\n",
       "      <th>69</th>\n",
       "      <td>Шоколад молочный Соленая карамель Ritter Sport...</td>\n",
       "      <td>159.99</td>\n",
       "      <td>Ritter Sport</td>\n",
       "      <td>4.8</td>\n",
       "      <td>535.0</td>\n",
       "      <td>флоупак</td>\n",
       "      <td>Молочный</td>\n",
       "      <td>NaN</td>\n",
       "      <td>Сахар, масло какао, какао тертое, соленая кара...</td>\n",
       "      <td>0</td>\n",
       "      <td>[DESSERT]</td>\n",
       "      <td>0</td>\n",
       "      <td>0</td>\n",
       "      <td>0</td>\n",
       "      <td>1</td>\n",
       "      <td>0</td>\n",
       "    </tr>\n",
       "    <tr>\n",
       "      <th>70</th>\n",
       "      <td>Шоколад белый с лимонной начинкой Ritter Sport...</td>\n",
       "      <td>169.99</td>\n",
       "      <td>Ritter Sport</td>\n",
       "      <td>4.7</td>\n",
       "      <td>589.0</td>\n",
       "      <td>флоупак</td>\n",
       "      <td>Белый</td>\n",
       "      <td>NaN</td>\n",
       "      <td>Шоколад белый (сахар, масло какао, сухое цельн...</td>\n",
       "      <td>0</td>\n",
       "      <td>[EXOTIC]</td>\n",
       "      <td>0</td>\n",
       "      <td>0</td>\n",
       "      <td>0</td>\n",
       "      <td>0</td>\n",
       "      <td>1</td>\n",
       "    </tr>\n",
       "    <tr>\n",
       "      <th>79</th>\n",
       "      <td>Шоколад молочный с хрустящими шариками Хрутка 88г</td>\n",
       "      <td>98.99</td>\n",
       "      <td>Хрутка</td>\n",
       "      <td>4.5</td>\n",
       "      <td>543.0</td>\n",
       "      <td>флоупак</td>\n",
       "      <td>Молочный</td>\n",
       "      <td>NaN</td>\n",
       "      <td>Сахар, молоко сухое цельное, жир специального ...</td>\n",
       "      <td>1</td>\n",
       "      <td>[SNACKS]</td>\n",
       "      <td>0</td>\n",
       "      <td>0</td>\n",
       "      <td>1</td>\n",
       "      <td>0</td>\n",
       "      <td>0</td>\n",
       "    </tr>\n",
       "    <tr>\n",
       "      <th>83</th>\n",
       "      <td>Шоколад молочный с ореховой нугой Schogetten 100г</td>\n",
       "      <td>149.99</td>\n",
       "      <td>Schogetten</td>\n",
       "      <td>4.7</td>\n",
       "      <td>547.0</td>\n",
       "      <td>картонная упаковка</td>\n",
       "      <td>Молочный</td>\n",
       "      <td>NaN</td>\n",
       "      <td>Сахар, масло какао, паста из фундука (13%), су...</td>\n",
       "      <td>0</td>\n",
       "      <td>[NUTS, DESSERT]</td>\n",
       "      <td>1</td>\n",
       "      <td>0</td>\n",
       "      <td>0</td>\n",
       "      <td>1</td>\n",
       "      <td>0</td>\n",
       "    </tr>\n",
       "    <tr>\n",
       "      <th>94</th>\n",
       "      <td>Шоколад белый Schogetten Blonde Almond 100г</td>\n",
       "      <td>149.99</td>\n",
       "      <td>Schogetten</td>\n",
       "      <td>NaN</td>\n",
       "      <td>553.0</td>\n",
       "      <td>картонная упаковка</td>\n",
       "      <td>Белый</td>\n",
       "      <td>NaN</td>\n",
       "      <td>Сахар, какао-масло, сухое цельное молоко, минд...</td>\n",
       "      <td>0</td>\n",
       "      <td>[NUTS]</td>\n",
       "      <td>1</td>\n",
       "      <td>0</td>\n",
       "      <td>0</td>\n",
       "      <td>0</td>\n",
       "      <td>0</td>\n",
       "    </tr>\n",
       "    <tr>\n",
       "      <th>99</th>\n",
       "      <td>Шоколад молочный с кусочками кренделя Ritter S...</td>\n",
       "      <td>169.99</td>\n",
       "      <td>Ritter Sport</td>\n",
       "      <td>NaN</td>\n",
       "      <td>518.0</td>\n",
       "      <td>флоупак</td>\n",
       "      <td>Молочный</td>\n",
       "      <td>NaN</td>\n",
       "      <td>Шоколад молочный (сахар, масло какао, какао те...</td>\n",
       "      <td>0</td>\n",
       "      <td>[SNACKS]</td>\n",
       "      <td>0</td>\n",
       "      <td>0</td>\n",
       "      <td>1</td>\n",
       "      <td>0</td>\n",
       "      <td>0</td>\n",
       "    </tr>\n",
       "    <tr>\n",
       "      <th>101</th>\n",
       "      <td>Шоколад Ozera горький без сахара с апельсином 90г</td>\n",
       "      <td>174.99</td>\n",
       "      <td>Ozera</td>\n",
       "      <td>NaN</td>\n",
       "      <td>470.0</td>\n",
       "      <td>картонная упаковка</td>\n",
       "      <td>Горький</td>\n",
       "      <td>NaN</td>\n",
       "      <td>Какао тертое, олигофруктоза (пищевые волокна),...</td>\n",
       "      <td>1</td>\n",
       "      <td>[EXOTIC]</td>\n",
       "      <td>0</td>\n",
       "      <td>0</td>\n",
       "      <td>0</td>\n",
       "      <td>0</td>\n",
       "      <td>1</td>\n",
       "    </tr>\n",
       "    <tr>\n",
       "      <th>106</th>\n",
       "      <td>Шоколад молочный взрывная карамель Алёнка 75г</td>\n",
       "      <td>109.99</td>\n",
       "      <td>Алёнка</td>\n",
       "      <td>4.8</td>\n",
       "      <td>540.0</td>\n",
       "      <td>бумажная упаковка</td>\n",
       "      <td>Молочный</td>\n",
       "      <td>NaN</td>\n",
       "      <td>Сахар, сухое цельное молоко, масло какао, кака...</td>\n",
       "      <td>1</td>\n",
       "      <td>[DESSERT]</td>\n",
       "      <td>0</td>\n",
       "      <td>0</td>\n",
       "      <td>0</td>\n",
       "      <td>1</td>\n",
       "      <td>0</td>\n",
       "    </tr>\n",
       "    <tr>\n",
       "      <th>107</th>\n",
       "      <td>Шоколад Ozera горький без сахара с фундуком 90г</td>\n",
       "      <td>174.99</td>\n",
       "      <td>Ozera</td>\n",
       "      <td>NaN</td>\n",
       "      <td>510.0</td>\n",
       "      <td>картонная упаковка</td>\n",
       "      <td>Горький</td>\n",
       "      <td>NaN</td>\n",
       "      <td>Какао тертое, какао-порошок, олигофруктоза (пи...</td>\n",
       "      <td>1</td>\n",
       "      <td>[NUTS]</td>\n",
       "      <td>1</td>\n",
       "      <td>0</td>\n",
       "      <td>0</td>\n",
       "      <td>0</td>\n",
       "      <td>0</td>\n",
       "    </tr>\n",
       "    <tr>\n",
       "      <th>114</th>\n",
       "      <td>Шоколад темный Schogetten Blonde Pure 100г</td>\n",
       "      <td>149.99</td>\n",
       "      <td>Schogetten</td>\n",
       "      <td>NaN</td>\n",
       "      <td>541.0</td>\n",
       "      <td>картонная упаковка</td>\n",
       "      <td>Темный</td>\n",
       "      <td>NaN</td>\n",
       "      <td>Сахар, какао-масло, сухое цельное молоко, суха...</td>\n",
       "      <td>0</td>\n",
       "      <td>[NO_FILLING]</td>\n",
       "      <td>0</td>\n",
       "      <td>0</td>\n",
       "      <td>0</td>\n",
       "      <td>0</td>\n",
       "      <td>0</td>\n",
       "    </tr>\n",
       "    <tr>\n",
       "      <th>117</th>\n",
       "      <td>Кондитерская плитка молочная с арахисом Хороша...</td>\n",
       "      <td>44.99</td>\n",
       "      <td>Рот Фронт</td>\n",
       "      <td>4.3</td>\n",
       "      <td>570.0</td>\n",
       "      <td>флоупак</td>\n",
       "      <td>Молочный</td>\n",
       "      <td>NaN</td>\n",
       "      <td>Сахар, заменитель масла какао (масло пальмовое...</td>\n",
       "      <td>1</td>\n",
       "      <td>[NUTS]</td>\n",
       "      <td>1</td>\n",
       "      <td>0</td>\n",
       "      <td>0</td>\n",
       "      <td>0</td>\n",
       "      <td>0</td>\n",
       "    </tr>\n",
       "    <tr>\n",
       "      <th>118</th>\n",
       "      <td>Шоколад молочный с молоком и ванилью Ritter Sp...</td>\n",
       "      <td>169.99</td>\n",
       "      <td>Ritter Sport</td>\n",
       "      <td>NaN</td>\n",
       "      <td>563.0</td>\n",
       "      <td>флоупак</td>\n",
       "      <td>Молочный</td>\n",
       "      <td>NaN</td>\n",
       "      <td>Шоколад молочный (сахар, масло какао, какао те...</td>\n",
       "      <td>0</td>\n",
       "      <td>[EXOTIC]</td>\n",
       "      <td>0</td>\n",
       "      <td>0</td>\n",
       "      <td>0</td>\n",
       "      <td>0</td>\n",
       "      <td>1</td>\n",
       "    </tr>\n",
       "    <tr>\n",
       "      <th>137</th>\n",
       "      <td>Шоколад Славянка Карамельный белый с солью Осо...</td>\n",
       "      <td>124.99</td>\n",
       "      <td>Славянка</td>\n",
       "      <td>4.7</td>\n",
       "      <td>544.0</td>\n",
       "      <td>картонная упаковка</td>\n",
       "      <td>Белый</td>\n",
       "      <td>NaN</td>\n",
       "      <td>Сахар, масло какао, молоко цельное сухое, моло...</td>\n",
       "      <td>1</td>\n",
       "      <td>[EXOTIC]</td>\n",
       "      <td>0</td>\n",
       "      <td>0</td>\n",
       "      <td>0</td>\n",
       "      <td>0</td>\n",
       "      <td>1</td>\n",
       "    </tr>\n",
       "    <tr>\n",
       "      <th>138</th>\n",
       "      <td>Шоколад со злаками Kinder Chocolate 4шт*23.5г</td>\n",
       "      <td>239.99</td>\n",
       "      <td>Kinder</td>\n",
       "      <td>4.9</td>\n",
       "      <td>561.0</td>\n",
       "      <td>флоупак</td>\n",
       "      <td>Молочный</td>\n",
       "      <td>NaN</td>\n",
       "      <td>Молочный шоколад (сахар, масло какао, сухое це...</td>\n",
       "      <td>0</td>\n",
       "      <td>[SNACKS]</td>\n",
       "      <td>0</td>\n",
       "      <td>0</td>\n",
       "      <td>1</td>\n",
       "      <td>0</td>\n",
       "      <td>0</td>\n",
       "    </tr>\n",
       "    <tr>\n",
       "      <th>156</th>\n",
       "      <td>Шоколад белый Schogetten Blonde Caramel 100г</td>\n",
       "      <td>149.99</td>\n",
       "      <td>Schogetten</td>\n",
       "      <td>4.8</td>\n",
       "      <td>542.0</td>\n",
       "      <td>картонная упаковка</td>\n",
       "      <td>Белый</td>\n",
       "      <td>NaN</td>\n",
       "      <td>Сахар, какао-масло, сухое цельное молоко, сухи...</td>\n",
       "      <td>0</td>\n",
       "      <td>[DESSERT]</td>\n",
       "      <td>0</td>\n",
       "      <td>0</td>\n",
       "      <td>0</td>\n",
       "      <td>1</td>\n",
       "      <td>0</td>\n",
       "    </tr>\n",
       "    <tr>\n",
       "      <th>162</th>\n",
       "      <td>Шоколад молочный с фундуком Аленка 75г</td>\n",
       "      <td>119.99</td>\n",
       "      <td>Алёнка</td>\n",
       "      <td>NaN</td>\n",
       "      <td>550.0</td>\n",
       "      <td>бумажная упаковка</td>\n",
       "      <td>Молочный</td>\n",
       "      <td>NaN</td>\n",
       "      <td>Сахар, масло, какао тертое, ядро ореха фундука...</td>\n",
       "      <td>1</td>\n",
       "      <td>[NUTS]</td>\n",
       "      <td>1</td>\n",
       "      <td>0</td>\n",
       "      <td>0</td>\n",
       "      <td>0</td>\n",
       "      <td>0</td>\n",
       "    </tr>\n",
       "  </tbody>\n",
       "</table>\n",
       "</div>"
      ],
      "text/plain": [
       "                                                  name   price         brand  \\\n",
       "24       Шоколад White Chocolate белый Schogetten 100г  134.99    Schogetten   \n",
       "35       Шоколад Aerated белый пористый Alpen Gold 75г   89.99    Alpen Gold   \n",
       "40   Шоколад молочный с кокосовой начинкой и вафлей...   59.99    Milk Story   \n",
       "42            Шоколад белый Schogetten Chai Latte 100г  149.99    Schogetten   \n",
       "64           Шоколад Клубничный йогурт Schogetten 100г  119.99    Schogetten   \n",
       "67            Шоколад молочный Popcorn Schogetten 100г  149.99    Schogetten   \n",
       "69   Шоколад молочный Соленая карамель Ritter Sport...  159.99  Ritter Sport   \n",
       "70   Шоколад белый с лимонной начинкой Ritter Sport...  169.99  Ritter Sport   \n",
       "79   Шоколад молочный с хрустящими шариками Хрутка 88г   98.99        Хрутка   \n",
       "83   Шоколад молочный с ореховой нугой Schogetten 100г  149.99    Schogetten   \n",
       "94         Шоколад белый Schogetten Blonde Almond 100г  149.99    Schogetten   \n",
       "99   Шоколад молочный с кусочками кренделя Ritter S...  169.99  Ritter Sport   \n",
       "101  Шоколад Ozera горький без сахара с апельсином 90г  174.99         Ozera   \n",
       "106      Шоколад молочный взрывная карамель Алёнка 75г  109.99        Алёнка   \n",
       "107    Шоколад Ozera горький без сахара с фундуком 90г  174.99         Ozera   \n",
       "114         Шоколад темный Schogetten Blonde Pure 100г  149.99    Schogetten   \n",
       "117  Кондитерская плитка молочная с арахисом Хороша...   44.99     Рот Фронт   \n",
       "118  Шоколад молочный с молоком и ванилью Ritter Sp...  169.99  Ritter Sport   \n",
       "137  Шоколад Славянка Карамельный белый с солью Осо...  124.99      Славянка   \n",
       "138      Шоколад со злаками Kinder Chocolate 4шт*23.5г  239.99        Kinder   \n",
       "156       Шоколад белый Schogetten Blonde Caramel 100г  149.99    Schogetten   \n",
       "162             Шоколад молочный с фундуком Аленка 75г  119.99        Алёнка   \n",
       "\n",
       "     rating   kcal             package      type  cocoa  \\\n",
       "24      4.9  555.0  картонная упаковка     Белый    NaN   \n",
       "35      4.8  527.0             флоупак     Белый    NaN   \n",
       "40      4.6  550.0             флоупак  Молочный    NaN   \n",
       "42      4.2  561.0  картонная упаковка     Белый    NaN   \n",
       "64      4.8  563.0  картонная упаковка  Молочный    NaN   \n",
       "67      4.7  554.0  картонная упаковка  Молочный    NaN   \n",
       "69      4.8  535.0             флоупак  Молочный    NaN   \n",
       "70      4.7  589.0             флоупак     Белый    NaN   \n",
       "79      4.5  543.0             флоупак  Молочный    NaN   \n",
       "83      4.7  547.0  картонная упаковка  Молочный    NaN   \n",
       "94      NaN  553.0  картонная упаковка     Белый    NaN   \n",
       "99      NaN  518.0             флоупак  Молочный    NaN   \n",
       "101     NaN  470.0  картонная упаковка   Горький    NaN   \n",
       "106     4.8  540.0   бумажная упаковка  Молочный    NaN   \n",
       "107     NaN  510.0  картонная упаковка   Горький    NaN   \n",
       "114     NaN  541.0  картонная упаковка    Темный    NaN   \n",
       "117     4.3  570.0             флоупак  Молочный    NaN   \n",
       "118     NaN  563.0             флоупак  Молочный    NaN   \n",
       "137     4.7  544.0  картонная упаковка     Белый    NaN   \n",
       "138     4.9  561.0             флоупак  Молочный    NaN   \n",
       "156     4.8  542.0  картонная упаковка     Белый    NaN   \n",
       "162     NaN  550.0   бумажная упаковка  Молочный    NaN   \n",
       "\n",
       "                                                Состав  rus_brand  \\\n",
       "24   Сахар, какао-масло, сухое обезжиренное молоко,...          0   \n",
       "35   Сахар, масло какао, сыворотка сухая молочная, ...          1   \n",
       "40   Сахар, масло пальмовое, масло какао, сыворотка...          1   \n",
       "42   Сахар, пальмовый жир, сухое цельное молоко, ка...          0   \n",
       "64   Сахар, пальмовый жир, какао-масло, сухое йогур...          0   \n",
       "67   Сахар, пальмовый жир, сухое цельное молоко, ка...          0   \n",
       "69   Сахар, масло какао, какао тертое, соленая кара...          0   \n",
       "70   Шоколад белый (сахар, масло какао, сухое цельн...          0   \n",
       "79   Сахар, молоко сухое цельное, жир специального ...          1   \n",
       "83   Сахар, масло какао, паста из фундука (13%), су...          0   \n",
       "94   Сахар, какао-масло, сухое цельное молоко, минд...          0   \n",
       "99   Шоколад молочный (сахар, масло какао, какао те...          0   \n",
       "101  Какао тертое, олигофруктоза (пищевые волокна),...          1   \n",
       "106  Сахар, сухое цельное молоко, масло какао, кака...          1   \n",
       "107  Какао тертое, какао-порошок, олигофруктоза (пи...          1   \n",
       "114  Сахар, какао-масло, сухое цельное молоко, суха...          0   \n",
       "117  Сахар, заменитель масла какао (масло пальмовое...          1   \n",
       "118  Шоколад молочный (сахар, масло какао, какао те...          0   \n",
       "137  Сахар, масло какао, молоко цельное сухое, моло...          1   \n",
       "138  Молочный шоколад (сахар, масло какао, сухое це...          0   \n",
       "156  Сахар, какао-масло, сухое цельное молоко, сухи...          0   \n",
       "162  Сахар, масло, какао тертое, ядро ореха фундука...          1   \n",
       "\n",
       "               filling  filling_NUTS  filling_BERRIES  filling_SNACKS  \\\n",
       "24        [NO_FILLING]             0                0               0   \n",
       "35        [NO_FILLING]             0                0               0   \n",
       "40    [SNACKS, EXOTIC]             0                0               1   \n",
       "42   [DESSERT, EXOTIC]             0                0               0   \n",
       "64           [DESSERT]             0                0               0   \n",
       "67            [SNACKS]             0                0               1   \n",
       "69           [DESSERT]             0                0               0   \n",
       "70            [EXOTIC]             0                0               0   \n",
       "79            [SNACKS]             0                0               1   \n",
       "83     [NUTS, DESSERT]             1                0               0   \n",
       "94              [NUTS]             1                0               0   \n",
       "99            [SNACKS]             0                0               1   \n",
       "101           [EXOTIC]             0                0               0   \n",
       "106          [DESSERT]             0                0               0   \n",
       "107             [NUTS]             1                0               0   \n",
       "114       [NO_FILLING]             0                0               0   \n",
       "117             [NUTS]             1                0               0   \n",
       "118           [EXOTIC]             0                0               0   \n",
       "137           [EXOTIC]             0                0               0   \n",
       "138           [SNACKS]             0                0               1   \n",
       "156          [DESSERT]             0                0               0   \n",
       "162             [NUTS]             1                0               0   \n",
       "\n",
       "     filling_DESSERT  filling_EXOTIC  \n",
       "24                 0               0  \n",
       "35                 0               0  \n",
       "40                 0               1  \n",
       "42                 1               1  \n",
       "64                 1               0  \n",
       "67                 0               0  \n",
       "69                 1               0  \n",
       "70                 0               1  \n",
       "79                 0               0  \n",
       "83                 1               0  \n",
       "94                 0               0  \n",
       "99                 0               0  \n",
       "101                0               1  \n",
       "106                1               0  \n",
       "107                0               0  \n",
       "114                0               0  \n",
       "117                0               0  \n",
       "118                0               1  \n",
       "137                0               1  \n",
       "138                0               0  \n",
       "156                1               0  \n",
       "162                0               0  "
      ]
     },
     "execution_count": 59,
     "metadata": {},
     "output_type": "execute_result"
    }
   ],
   "source": [
    "data[data['cocoa'].isna()]"
   ]
  },
  {
   "cell_type": "markdown",
   "id": "232215b3-83db-4f8d-973f-b92cfea6edd0",
   "metadata": {},
   "source": [
    "По результатам поиска в интернете процента содержания какао для каждой из шоколадок выше, можем заполнить пропуски. "
   ]
  },
  {
   "cell_type": "code",
   "execution_count": 62,
   "id": "2a176bee-abee-49e6-828b-a79941b0e6a0",
   "metadata": {},
   "outputs": [],
   "source": [
    "def fillna_cocoa(row):\n",
    "    if row['type'] == 'Белый':\n",
    "        return 0\n",
    "    if row['type'] == 'Молочный' and row['brand'] == 'Schogetten':\n",
    "        return 30\n",
    "    if row['type'] == 'Молочный' and row['brand'] == 'Ritter Sport':\n",
    "        return 33\n",
    "    if row['type'] == 'Молочный' and row['brand'] == 'Алёнка':\n",
    "        return 30\n",
    "    if row['brand'] == 'Kinder':\n",
    "        return 13\n",
    "    if row['type'] == 'Темный' and row['brand'] == 'Schogetten':\n",
    "        return 50\n",
    "    if row['type'] == 'Молочный':\n",
    "        return 30\n",
    "    if row['type'] == 'Горький':\n",
    "        return 75"
   ]
  },
  {
   "cell_type": "code",
   "execution_count": 64,
   "id": "2e674afa-5149-4af8-bd57-994c31560ddd",
   "metadata": {},
   "outputs": [],
   "source": [
    "data['cocoa'] = data.apply(lambda x: fillna_cocoa(x) if pd.isna(x['cocoa']) else x['cocoa'], axis=1)"
   ]
  },
  {
   "cell_type": "code",
   "execution_count": 66,
   "id": "a02813d3-f123-4957-a2cc-8f6d410514b8",
   "metadata": {},
   "outputs": [
    {
     "data": {
      "text/plain": [
       "0"
      ]
     },
     "execution_count": 66,
     "metadata": {},
     "output_type": "execute_result"
    }
   ],
   "source": [
    "data['cocoa'].isna().sum()"
   ]
  },
  {
   "cell_type": "code",
   "execution_count": 68,
   "id": "cb6666ef-4a8e-4271-ba72-5d7c9a9f0d12",
   "metadata": {},
   "outputs": [
    {
     "data": {
      "image/png": "[encoded data removed]",
      "text/plain": [
       "<Figure size 1000x600 with 1 Axes>"
      ]
     },
     "metadata": {},
     "output_type": "display_data"
    }
   ],
   "source": [
    "sns.set(style='whitegrid')\n",
    "plt.figure(figsize=(10, 6))\n",
    "sns.histplot(data['cocoa'], bins=30, kde=True, color='royalblue', edgecolor='black')\n",
    "\n",
    "plt.title('Гистограмма распределения содержания какао в шоколаде', fontsize=16)\n",
    "plt.xlabel('Значение', fontsize=12)\n",
    "plt.ylabel('Частота', fontsize=12)\n",
    "\n",
    "plt.grid(True, linestyle='--', alpha=0.6)\n",
    "plt.tight_layout()\n",
    "plt.show()"
   ]
  },
  {
   "cell_type": "code",
   "execution_count": 69,
   "id": "db2222eb-a0c1-4155-ade3-9b29937614a1",
   "metadata": {},
   "outputs": [
    {
     "data": {
      "text/html": [
       "<div>\n",
       "<style scoped>\n",
       "    .dataframe tbody tr th:only-of-type {\n",
       "        vertical-align: middle;\n",
       "    }\n",
       "\n",
       "    .dataframe tbody tr th {\n",
       "        vertical-align: top;\n",
       "    }\n",
       "\n",
       "    .dataframe thead th {\n",
       "        text-align: right;\n",
       "    }\n",
       "</style>\n",
       "<table border=\"1\" class=\"dataframe\">\n",
       "  <thead>\n",
       "    <tr style=\"text-align: right;\">\n",
       "      <th></th>\n",
       "      <th>mean</th>\n",
       "      <th>std</th>\n",
       "      <th>min</th>\n",
       "      <th>25%</th>\n",
       "      <th>50%</th>\n",
       "      <th>75%</th>\n",
       "      <th>max</th>\n",
       "    </tr>\n",
       "  </thead>\n",
       "  <tbody>\n",
       "    <tr>\n",
       "      <th>cocoa</th>\n",
       "      <td>35.006135</td>\n",
       "      <td>17.311773</td>\n",
       "      <td>0.0</td>\n",
       "      <td>25.0</td>\n",
       "      <td>30.0</td>\n",
       "      <td>41.5</td>\n",
       "      <td>85.0</td>\n",
       "    </tr>\n",
       "  </tbody>\n",
       "</table>\n",
       "</div>"
      ],
      "text/plain": [
       "            mean        std  min   25%   50%   75%   max\n",
       "cocoa  35.006135  17.311773  0.0  25.0  30.0  41.5  85.0"
      ]
     },
     "execution_count": 69,
     "metadata": {},
     "output_type": "execute_result"
    }
   ],
   "source": [
    "desc = pd.DataFrame(data['cocoa'].describe())\n",
    "desc_df = desc.transpose()\n",
    "pd.DataFrame(desc_df).drop(columns='count')"
   ]
  },
  {
   "cell_type": "markdown",
   "id": "35487fc0-5597-4099-825c-df3190ee6b4d",
   "metadata": {},
   "source": [
    "Наблюдаются толстые левый и правый хвосты распределения -- это белый и горький шоколад соответственно. В выборке преобладает молочный шоколад."
   ]
  },
  {
   "cell_type": "markdown",
   "id": "8a005e58-a7e3-4829-9a55-d1059523d97f",
   "metadata": {},
   "source": [
    "### Упаковка:"
   ]
  },
  {
   "cell_type": "code",
   "execution_count": 74,
   "id": "a94c9a95-ff74-4132-8a9f-f87afdb9282e",
   "metadata": {},
   "outputs": [
    {
     "data": {
      "text/plain": [
       "package\n",
       "флоупак               93\n",
       "картонная упаковка    47\n",
       "бумажная упаковка     23\n",
       "Name: count, dtype: int64"
      ]
     },
     "execution_count": 74,
     "metadata": {},
     "output_type": "execute_result"
    }
   ],
   "source": [
    "data['package'].value_counts(dropna=False)"
   ]
  },
  {
   "cell_type": "code",
   "execution_count": 76,
   "id": "d6be752e-8161-4662-9469-3f45966957c6",
   "metadata": {},
   "outputs": [
    {
     "data": {
      "text/plain": [
       "0"
      ]
     },
     "execution_count": 76,
     "metadata": {},
     "output_type": "execute_result"
    }
   ],
   "source": [
    "data['package'].isna().sum()"
   ]
  },
  {
   "cell_type": "code",
   "execution_count": 78,
   "id": "c924ba22-37a5-4ef1-90b6-a6b820862b5a",
   "metadata": {},
   "outputs": [
    {
     "data": {
      "image/png": "[encoded data removed]",
      "text/plain": [
       "<Figure size 640x480 with 1 Axes>"
      ]
     },
     "metadata": {},
     "output_type": "display_data"
    }
   ],
   "source": [
    "freq = data['package'].value_counts()\n",
    "plt.barh(freq.index, freq, color='skyblue')\n",
    "\n",
    "plt.xlabel('Количество')\n",
    "plt.title('Количество шоколада в выборке по типам упаковки')\n",
    "\n",
    "plt.tight_layout()\n",
    "plt.show()"
   ]
  },
  {
   "cell_type": "markdown",
   "id": "4cfcb0be-8b51-4d85-937c-f85a1107de60",
   "metadata": {},
   "source": [
    "### Рейтинг:"
   ]
  },
  {
   "cell_type": "code",
   "execution_count": 81,
   "id": "4c3e2c11-2f04-4a2e-bd90-459015402b40",
   "metadata": {},
   "outputs": [
    {
     "data": {
      "text/plain": [
       "12"
      ]
     },
     "execution_count": 81,
     "metadata": {},
     "output_type": "execute_result"
    }
   ],
   "source": [
    "data['rating'].isna().sum()"
   ]
  },
  {
   "cell_type": "markdown",
   "id": "d4066260-fdaa-458f-a07f-465f1c3ae128",
   "metadata": {},
   "source": [
    "Для 12 наблюдений из выборки рейтинг товара отсутствует. Посмотрим на распределение данного признака."
   ]
  },
  {
   "cell_type": "code",
   "execution_count": 84,
   "id": "7b3086e6-8079-497f-afd4-fefc20245044",
   "metadata": {},
   "outputs": [
    {
     "data": {
      "image/png": "[encoded data removed]",
      "text/plain": [
       "<Figure size 1000x600 with 1 Axes>"
      ]
     },
     "metadata": {},
     "output_type": "display_data"
    }
   ],
   "source": [
    "sns.set(style='whitegrid')\n",
    "plt.figure(figsize=(10, 6))\n",
    "sns.histplot(data['rating'], bins=30, kde=True, color='royalblue', edgecolor='black')\n",
    "\n",
    "plt.title('Гистограмма распределения рейтинга товара', fontsize=16)\n",
    "plt.xlabel('Значение', fontsize=12)\n",
    "plt.ylabel('Частота', fontsize=12)\n",
    "\n",
    "plt.grid(True, linestyle='--', alpha=0.6)\n",
    "plt.tight_layout()\n",
    "plt.show()"
   ]
  },
  {
   "cell_type": "code",
   "execution_count": 85,
   "id": "445307a2-1b94-4fbb-a17c-c0b097310769",
   "metadata": {},
   "outputs": [
    {
     "data": {
      "text/html": [
       "<div>\n",
       "<style scoped>\n",
       "    .dataframe tbody tr th:only-of-type {\n",
       "        vertical-align: middle;\n",
       "    }\n",
       "\n",
       "    .dataframe tbody tr th {\n",
       "        vertical-align: top;\n",
       "    }\n",
       "\n",
       "    .dataframe thead th {\n",
       "        text-align: right;\n",
       "    }\n",
       "</style>\n",
       "<table border=\"1\" class=\"dataframe\">\n",
       "  <thead>\n",
       "    <tr style=\"text-align: right;\">\n",
       "      <th></th>\n",
       "      <th>mean</th>\n",
       "      <th>std</th>\n",
       "      <th>min</th>\n",
       "      <th>25%</th>\n",
       "      <th>50%</th>\n",
       "      <th>75%</th>\n",
       "      <th>max</th>\n",
       "    </tr>\n",
       "  </thead>\n",
       "  <tbody>\n",
       "    <tr>\n",
       "      <th>rating</th>\n",
       "      <td>4.774172</td>\n",
       "      <td>0.117453</td>\n",
       "      <td>4.2</td>\n",
       "      <td>4.7</td>\n",
       "      <td>4.8</td>\n",
       "      <td>4.8</td>\n",
       "      <td>4.9</td>\n",
       "    </tr>\n",
       "  </tbody>\n",
       "</table>\n",
       "</div>"
      ],
      "text/plain": [
       "            mean       std  min  25%  50%  75%  max\n",
       "rating  4.774172  0.117453  4.2  4.7  4.8  4.8  4.9"
      ]
     },
     "execution_count": 85,
     "metadata": {},
     "output_type": "execute_result"
    }
   ],
   "source": [
    "desc = pd.DataFrame(data['rating'].describe())\n",
    "desc_df = desc.transpose()\n",
    "pd.DataFrame(desc_df).drop(columns='count')"
   ]
  },
  {
   "cell_type": "markdown",
   "id": "095d05db-0997-4de1-9813-6c9f22d2f0bb",
   "metadata": {},
   "source": [
    "Видно, что для подавляющего большинства товаров рейтинг равен 4.8. Поэтому закодируем данным значением пропущенные значения."
   ]
  },
  {
   "cell_type": "code",
   "execution_count": 89,
   "id": "d5f367fe-c770-4a60-a4ef-dc1f8302f8af",
   "metadata": {},
   "outputs": [],
   "source": [
    "data['rating'] = data['rating'].fillna(data['rating'].mode()[0])"
   ]
  },
  {
   "cell_type": "markdown",
   "id": "f1bb09f8-d2de-41e3-9967-efae0463c961",
   "metadata": {},
   "source": [
    "### Наличие эмульгаторов:"
   ]
  },
  {
   "cell_type": "markdown",
   "id": "9104fc3a-a03c-41b3-89c8-fe5a50ee05bd",
   "metadata": {},
   "source": [
    "Добавим также в признаковое описание дамми-переменную на наличие эмульгаторов в составе шоколада."
   ]
  },
  {
   "cell_type": "code",
   "execution_count": 93,
   "id": "138c461d-d691-44db-a0fd-dd0f1ed38288",
   "metadata": {},
   "outputs": [],
   "source": [
    "def emulsifier(text):\n",
    "    for i in range(len(text) - 1):\n",
    "        if text[i] == 'Е' and text[i + 1] in '1234567890':\n",
    "            return 1\n",
    "    return 0"
   ]
  },
  {
   "cell_type": "code",
   "execution_count": 95,
   "id": "7a56fa1f-e097-4a9d-8241-680c7f852265",
   "metadata": {},
   "outputs": [],
   "source": [
    "data['emulsifiers'] = data['Состав'].map(lambda x: emulsifier(x))"
   ]
  },
  {
   "cell_type": "code",
   "execution_count": 97,
   "id": "af436697-09b2-4e52-a500-7800feadcdcc",
   "metadata": {},
   "outputs": [
    {
     "data": {
      "text/plain": [
       "44.17"
      ]
     },
     "execution_count": 97,
     "metadata": {},
     "output_type": "execute_result"
    }
   ],
   "source": [
    "round((data['emulsifiers'].sum() / data.shape[0]) * 100, 2)"
   ]
  },
  {
   "cell_type": "markdown",
   "id": "bcb5655c-f477-4f0a-97e2-ab6d54551fbe",
   "metadata": {},
   "source": [
    "44.17% шоколадок в выборке содержат в своем составе эмульгаторы."
   ]
  },
  {
   "cell_type": "markdown",
   "id": "b1e8bcd3-006b-4f0f-a97c-59e9dfa5dad7",
   "metadata": {},
   "source": [
    "### Отсуствие сахара:"
   ]
  },
  {
   "cell_type": "markdown",
   "id": "d03bbc17-9e4d-4062-b15d-39e1e411fcf1",
   "metadata": {},
   "source": [
    "Добавим в признаковое описание дамми-переменную на отсутствие сахара в составе шоколада."
   ]
  },
  {
   "cell_type": "code",
   "execution_count": 102,
   "id": "b19f2759-4bfb-4912-96cb-d51fe75c7aac",
   "metadata": {},
   "outputs": [],
   "source": [
    "def no_sugar(text):\n",
    "    for i in range(len(text) - 5):\n",
    "        if text[i:i+5].lower() == 'сахар':\n",
    "            return 0\n",
    "    return 1"
   ]
  },
  {
   "cell_type": "code",
   "execution_count": 104,
   "id": "c4324f59-52f7-4dd4-850b-707fa0008505",
   "metadata": {},
   "outputs": [],
   "source": [
    "data['no_sugar'] = data['Состав'].map(lambda x: no_sugar(x))"
   ]
  },
  {
   "cell_type": "code",
   "execution_count": 106,
   "id": "137bc0b8-d9f9-4b3c-b625-7f0de35cca84",
   "metadata": {},
   "outputs": [
    {
     "data": {
      "text/plain": [
       "1.23"
      ]
     },
     "execution_count": 106,
     "metadata": {},
     "output_type": "execute_result"
    }
   ],
   "source": [
    "round((data['no_sugar'].sum() / data.shape[0]) * 100, 2)"
   ]
  },
  {
   "cell_type": "markdown",
   "id": "af04c8fc-8380-4645-84b5-66b5dafa33ce",
   "metadata": {},
   "source": [
    "### Цена."
   ]
  },
  {
   "cell_type": "markdown",
   "id": "ec148198-b208-4189-8f53-f4c520d531be",
   "metadata": {},
   "source": [
    "Теперь посмотрим на распределение целевой переменной."
   ]
  },
  {
   "cell_type": "code",
   "execution_count": 110,
   "id": "a9f35a43-b8c8-4c92-812b-613ca0abdd1c",
   "metadata": {},
   "outputs": [
    {
     "data": {
      "image/png": "[encoded data removed]",
      "text/plain": [
       "<Figure size 1000x600 with 1 Axes>"
      ]
     },
     "metadata": {},
     "output_type": "display_data"
    }
   ],
   "source": [
    "sns.set(style='whitegrid')\n",
    "plt.figure(figsize=(10, 6))\n",
    "sns.histplot(data['price'], bins=30, kde=True, color='royalblue', edgecolor='black')\n",
    "\n",
    "plt.title('Гистограмма распределения цены шоколада', fontsize=16)\n",
    "plt.xlabel('Значение', fontsize=12)\n",
    "plt.ylabel('Частота', fontsize=12)\n",
    "\n",
    "plt.grid(True, linestyle='--', alpha=0.6)\n",
    "plt.tight_layout()\n",
    "plt.show()"
   ]
  },
  {
   "cell_type": "code",
   "execution_count": 111,
   "id": "85cf5d2f-beac-4d71-8de6-d65abc71a4e3",
   "metadata": {},
   "outputs": [
    {
     "data": {
      "text/html": [
       "<div>\n",
       "<style scoped>\n",
       "    .dataframe tbody tr th:only-of-type {\n",
       "        vertical-align: middle;\n",
       "    }\n",
       "\n",
       "    .dataframe tbody tr th {\n",
       "        vertical-align: top;\n",
       "    }\n",
       "\n",
       "    .dataframe thead th {\n",
       "        text-align: right;\n",
       "    }\n",
       "</style>\n",
       "<table border=\"1\" class=\"dataframe\">\n",
       "  <thead>\n",
       "    <tr style=\"text-align: right;\">\n",
       "      <th></th>\n",
       "      <th>mean</th>\n",
       "      <th>std</th>\n",
       "      <th>min</th>\n",
       "      <th>25%</th>\n",
       "      <th>50%</th>\n",
       "      <th>75%</th>\n",
       "      <th>max</th>\n",
       "    </tr>\n",
       "  </thead>\n",
       "  <tbody>\n",
       "    <tr>\n",
       "      <th>price</th>\n",
       "      <td>135.327423</td>\n",
       "      <td>56.643483</td>\n",
       "      <td>44.99</td>\n",
       "      <td>89.49</td>\n",
       "      <td>129.99</td>\n",
       "      <td>169.99</td>\n",
       "      <td>359.99</td>\n",
       "    </tr>\n",
       "  </tbody>\n",
       "</table>\n",
       "</div>"
      ],
      "text/plain": [
       "             mean        std    min    25%     50%     75%     max\n",
       "price  135.327423  56.643483  44.99  89.49  129.99  169.99  359.99"
      ]
     },
     "execution_count": 111,
     "metadata": {},
     "output_type": "execute_result"
    }
   ],
   "source": [
    "desc = pd.DataFrame(data['price'].describe())\n",
    "desc_df = desc.transpose()\n",
    "pd.DataFrame(desc_df).drop(columns='count')"
   ]
  },
  {
   "cell_type": "markdown",
   "id": "96322106-1509-4f5b-b062-94424ff01dd6",
   "metadata": {},
   "source": [
    "Выделяются 3 явных ценовых кластера, что, в том числе, можно увидеть по ядерной оценке плотности."
   ]
  },
  {
   "cell_type": "markdown",
   "id": "cbc6367b-cd2a-4533-a257-42406155df52",
   "metadata": {},
   "source": [
    "## Формирование датасета:"
   ]
  },
  {
   "cell_type": "code",
   "execution_count": 118,
   "id": "fc2ffd4e-92cf-460d-9abd-82e2a22efbc3",
   "metadata": {},
   "outputs": [],
   "source": [
    "data[['name', 'price', 'rus_brand', 'rating', 'no_sugar', 'kcal', 'package', 'type', 'cocoa', 'filling_NUTS', 'filling_BERRIES', \\\n",
    "       'filling_SNACKS', 'filling_DESSERT', 'filling_EXOTIC', 'emulsifiers']].to_csv('chocolate_data.csv', index=False)"
   ]
  },
  {
   "cell_type": "code",
   "execution_count": null,
   "id": "7a7d3a97-03e7-4d3a-9a49-d26d4b0fb8a2",
   "metadata": {},
   "outputs": [],
   "source": []
  }
 ],
 "metadata": {
  "kernelspec": {
   "display_name": "Python [conda env:base] *",
   "language": "python",
   "name": "conda-base-py"
  },
  "language_info": {
   "codemirror_mode": {
    "name": "ipython",
    "version": 3
   },
   "file_extension": ".py",
   "mimetype": "text/x-python",
   "name": "python",
   "nbconvert_exporter": "python",
   "pygments_lexer": "ipython3",
   "version": "3.12.2"
  }
 },
 "nbformat": 4,
 "nbformat_minor": 5
}
