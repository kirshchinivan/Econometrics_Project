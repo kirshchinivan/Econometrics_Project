{
 "cells": [
  {
   "cell_type": "code",
   "execution_count": 2,
   "id": "2a1d84f7-8556-42f5-92d2-0010d9402807",
   "metadata": {},
   "outputs": [],
   "source": [
    "import pandas as pd\n",
    "import numpy as np\n",
    "from langchain.output_parsers import PydanticOutputParser\n",
    "from langchain_core.prompts import PromptTemplate\n",
    "from langchain_openai import ChatOpenAI\n",
    "from pydantic import BaseModel, Field\n",
    "from enum import StrEnum"
   ]
  },
  {
   "cell_type": "code",
   "execution_count": 6,
   "id": "8c4bc42f-21e7-478b-b8ff-dd43acba1f73",
   "metadata": {},
   "outputs": [
    {
     "data": {
      "text/html": [
       "<div>\n",
       "<style scoped>\n",
       "    .dataframe tbody tr th:only-of-type {\n",
       "        vertical-align: middle;\n",
       "    }\n",
       "\n",
       "    .dataframe tbody tr th {\n",
       "        vertical-align: top;\n",
       "    }\n",
       "\n",
       "    .dataframe thead th {\n",
       "        text-align: right;\n",
       "    }\n",
       "</style>\n",
       "<table border=\"1\" class=\"dataframe\">\n",
       "  <thead>\n",
       "    <tr style=\"text-align: right;\">\n",
       "      <th></th>\n",
       "      <th>name</th>\n",
       "      <th>price</th>\n",
       "      <th>brand</th>\n",
       "      <th>rating</th>\n",
       "      <th>kcal</th>\n",
       "      <th>package</th>\n",
       "      <th>type</th>\n",
       "      <th>cacao</th>\n",
       "      <th>Состав</th>\n",
       "    </tr>\n",
       "  </thead>\n",
       "  <tbody>\n",
       "    <tr>\n",
       "      <th>0</th>\n",
       "      <td>Шоколад белый Миндаль и кокос Alpen Gold 80г</td>\n",
       "      <td>74.99</td>\n",
       "      <td>Alpen Gold</td>\n",
       "      <td>4.8</td>\n",
       "      <td>545.0</td>\n",
       "      <td>флоупак</td>\n",
       "      <td>Белый</td>\n",
       "      <td>22.0</td>\n",
       "      <td>Сахар, масло какао, сыворотка сухая молочная, ...</td>\n",
       "    </tr>\n",
       "    <tr>\n",
       "      <th>1</th>\n",
       "      <td>Шоколад белый пористый Россия щедрая душа 75г</td>\n",
       "      <td>74.99</td>\n",
       "      <td>Россия Щедрая Душа</td>\n",
       "      <td>4.8</td>\n",
       "      <td>545.0</td>\n",
       "      <td>флоупак</td>\n",
       "      <td>Белый</td>\n",
       "      <td>25.0</td>\n",
       "      <td>Сахар, масло какао, молоко сухое цельное, сыво...</td>\n",
       "    </tr>\n",
       "    <tr>\n",
       "      <th>2</th>\n",
       "      <td>Шоколад Классический Чизкейк Alpen Gold 85/90г</td>\n",
       "      <td>74.99</td>\n",
       "      <td>Alpen Gold</td>\n",
       "      <td>4.8</td>\n",
       "      <td>533.0</td>\n",
       "      <td>флоупак</td>\n",
       "      <td>Молочный</td>\n",
       "      <td>25.0</td>\n",
       "      <td>Сахар, жир растительный (масло пальмовое), печ...</td>\n",
       "    </tr>\n",
       "    <tr>\n",
       "      <th>3</th>\n",
       "      <td>Шоколад молочный Россия щедрая душа 82г</td>\n",
       "      <td>79.99</td>\n",
       "      <td>Россия Щедрая Душа</td>\n",
       "      <td>4.8</td>\n",
       "      <td>539.0</td>\n",
       "      <td>флоупак</td>\n",
       "      <td>Молочный</td>\n",
       "      <td>27.0</td>\n",
       "      <td>Сахар, масло какао, молоко сухое цельное, кака...</td>\n",
       "    </tr>\n",
       "    <tr>\n",
       "      <th>4</th>\n",
       "      <td>Шоколад белый Gold Selection Дуэт в клубнике Р...</td>\n",
       "      <td>88.99</td>\n",
       "      <td>Россия Щедрая Душа</td>\n",
       "      <td>4.8</td>\n",
       "      <td>543.0</td>\n",
       "      <td>флоупак</td>\n",
       "      <td>Белый</td>\n",
       "      <td>20.0</td>\n",
       "      <td>Сахар, масло какао, молоко сухое цельное, сыво...</td>\n",
       "    </tr>\n",
       "  </tbody>\n",
       "</table>\n",
       "</div>"
      ],
      "text/plain": [
       "                                                name  price  \\\n",
       "0       Шоколад белый Миндаль и кокос Alpen Gold 80г  74.99   \n",
       "1      Шоколад белый пористый Россия щедрая душа 75г  74.99   \n",
       "2     Шоколад Классический Чизкейк Alpen Gold 85/90г  74.99   \n",
       "3            Шоколад молочный Россия щедрая душа 82г  79.99   \n",
       "4  Шоколад белый Gold Selection Дуэт в клубнике Р...  88.99   \n",
       "\n",
       "                brand  rating   kcal  package      type  cacao  \\\n",
       "0          Alpen Gold     4.8  545.0  флоупак     Белый   22.0   \n",
       "1  Россия Щедрая Душа     4.8  545.0  флоупак     Белый   25.0   \n",
       "2          Alpen Gold     4.8  533.0  флоупак  Молочный   25.0   \n",
       "3  Россия Щедрая Душа     4.8  539.0  флоупак  Молочный   27.0   \n",
       "4  Россия Щедрая Душа     4.8  543.0  флоупак     Белый   20.0   \n",
       "\n",
       "                                              Состав  \n",
       "0  Сахар, масло какао, сыворотка сухая молочная, ...  \n",
       "1  Сахар, масло какао, молоко сухое цельное, сыво...  \n",
       "2  Сахар, жир растительный (масло пальмовое), печ...  \n",
       "3  Сахар, масло какао, молоко сухое цельное, кака...  \n",
       "4  Сахар, масло какао, молоко сухое цельное, сыво...  "
      ]
     },
     "execution_count": 6,
     "metadata": {},
     "output_type": "execute_result"
    }
   ],
   "source": [
    "data = pd.read_csv('final_products_05_05_2025_09_59.csv')\n",
    "data = data[(data['Вес (кг)'] <= 0.1) & (data['Вес (кг)']>= 0.075)]\n",
    "data = data[data['Тип'] == 'Шоколадная плитка']\n",
    "brands = ['Россия Щедрая Душа', 'Ritter Sport', 'Alpen Gold', 'Milka', 'Алёнка', 'Schogetten', 'Bucheron',\n",
    " 'Бабаевский', 'Вдохновение', 'Merci', 'Степ', 'Kinder']\n",
    "data = data[np.isin(data['Бренд'], brands)]\n",
    "data = data.reset_index()[['Название', 'Текущая цена', 'Бренд', 'Рейтинг', 'Ккал', 'Упаковка', 'Тип шоколада', 'Какао (%)', \\\n",
    "        'Состав']].rename(columns={'Название': 'name', 'Текущая цена': 'price', 'Бренд': 'brand', 'Рейтинг': 'rating', 'Ккал': 'kcal', \\\n",
    "        'Упаковка': 'package', 'Тип шоколада': 'type', 'Какао (%)': 'cacao', 'Состав': 'Состав'})\n",
    "data.head(5)"
   ]
  },
  {
   "cell_type": "markdown",
   "id": "64de74f7-6623-46e7-ae1d-75eda1aec9d3",
   "metadata": {},
   "source": [
    "### Бренд:"
   ]
  },
  {
   "cell_type": "code",
   "execution_count": 9,
   "id": "279e917f-a655-426d-b369-a592125113dc",
   "metadata": {},
   "outputs": [
    {
     "data": {
      "text/plain": [
       "brand\n",
       "Россия Щедрая Душа    23\n",
       "Ritter Sport          22\n",
       "Alpen Gold            20\n",
       "Milka                 13\n",
       "Алёнка                13\n",
       "Schogetten            12\n",
       "Bucheron              12\n",
       "Бабаевский             8\n",
       "Вдохновение            5\n",
       "Merci                  4\n",
       "Степ                   3\n",
       "Kinder                 3\n",
       "Name: count, dtype: int64"
      ]
     },
     "execution_count": 9,
     "metadata": {},
     "output_type": "execute_result"
    }
   ],
   "source": [
    "data['brand'].value_counts(dropna=False)"
   ]
  },
  {
   "cell_type": "markdown",
   "id": "1da28b3c-2637-4dc1-8298-dba6ef581467",
   "metadata": {},
   "source": [
    "### Тип шоколада:"
   ]
  },
  {
   "cell_type": "code",
   "execution_count": 12,
   "id": "da18e9d5-bab5-47b9-8aab-fb27f466e932",
   "metadata": {},
   "outputs": [
    {
     "data": {
      "text/plain": [
       "type\n",
       "Молочный    87\n",
       "Темный      24\n",
       "Белый       12\n",
       "Горький     12\n",
       "NaN          3\n",
       "Name: count, dtype: int64"
      ]
     },
     "execution_count": 12,
     "metadata": {},
     "output_type": "execute_result"
    }
   ],
   "source": [
    "data['type'].value_counts(dropna=False)"
   ]
  },
  {
   "cell_type": "code",
   "execution_count": 14,
   "id": "d28f4c10-8b31-421b-9bdb-6f292a80a6aa",
   "metadata": {},
   "outputs": [
    {
     "data": {
      "text/html": [
       "<div>\n",
       "<style scoped>\n",
       "    .dataframe tbody tr th:only-of-type {\n",
       "        vertical-align: middle;\n",
       "    }\n",
       "\n",
       "    .dataframe tbody tr th {\n",
       "        vertical-align: top;\n",
       "    }\n",
       "\n",
       "    .dataframe thead th {\n",
       "        text-align: right;\n",
       "    }\n",
       "</style>\n",
       "<table border=\"1\" class=\"dataframe\">\n",
       "  <thead>\n",
       "    <tr style=\"text-align: right;\">\n",
       "      <th></th>\n",
       "      <th>name</th>\n",
       "      <th>price</th>\n",
       "      <th>brand</th>\n",
       "      <th>rating</th>\n",
       "      <th>kcal</th>\n",
       "      <th>package</th>\n",
       "      <th>type</th>\n",
       "      <th>cacao</th>\n",
       "      <th>Состав</th>\n",
       "    </tr>\n",
       "  </thead>\n",
       "  <tbody>\n",
       "    <tr>\n",
       "      <th>9</th>\n",
       "      <td>Шоколад молочный и белый пористый Россия щедра...</td>\n",
       "      <td>79.99</td>\n",
       "      <td>Россия Щедрая Душа</td>\n",
       "      <td>4.8</td>\n",
       "      <td>542.0</td>\n",
       "      <td>флоупак</td>\n",
       "      <td>NaN</td>\n",
       "      <td>27.0</td>\n",
       "      <td>Сахар, масло какао, молоко сухое цельное, сыво...</td>\n",
       "    </tr>\n",
       "    <tr>\n",
       "      <th>16</th>\n",
       "      <td>Шоколад Трилогия Schogetten 100г</td>\n",
       "      <td>149.99</td>\n",
       "      <td>Schogetten</td>\n",
       "      <td>4.8</td>\n",
       "      <td>557.0</td>\n",
       "      <td>картонная упаковка</td>\n",
       "      <td>NaN</td>\n",
       "      <td>30.0</td>\n",
       "      <td>Масло какао, сахар, паста из ореха фундук, сух...</td>\n",
       "    </tr>\n",
       "    <tr>\n",
       "      <th>35</th>\n",
       "      <td>Шоколад Мороженое Schogetten 100г</td>\n",
       "      <td>149.99</td>\n",
       "      <td>Schogetten</td>\n",
       "      <td>4.8</td>\n",
       "      <td>546.0</td>\n",
       "      <td>картонная упаковка</td>\n",
       "      <td>NaN</td>\n",
       "      <td>30.0</td>\n",
       "      <td>Сахар, какао-масло, какао-паста, сухое обезжир...</td>\n",
       "    </tr>\n",
       "  </tbody>\n",
       "</table>\n",
       "</div>"
      ],
      "text/plain": [
       "                                                 name   price  \\\n",
       "9   Шоколад молочный и белый пористый Россия щедра...   79.99   \n",
       "16                   Шоколад Трилогия Schogetten 100г  149.99   \n",
       "35                  Шоколад Мороженое Schogetten 100г  149.99   \n",
       "\n",
       "                 brand  rating   kcal             package type  cacao  \\\n",
       "9   Россия Щедрая Душа     4.8  542.0             флоупак  NaN   27.0   \n",
       "16          Schogetten     4.8  557.0  картонная упаковка  NaN   30.0   \n",
       "35          Schogetten     4.8  546.0  картонная упаковка  NaN   30.0   \n",
       "\n",
       "                                               Состав  \n",
       "9   Сахар, масло какао, молоко сухое цельное, сыво...  \n",
       "16  Масло какао, сахар, паста из ореха фундук, сух...  \n",
       "35  Сахар, какао-масло, какао-паста, сухое обезжир...  "
      ]
     },
     "execution_count": 14,
     "metadata": {},
     "output_type": "execute_result"
    }
   ],
   "source": [
    "data[data['type'].isna()]"
   ]
  },
  {
   "cell_type": "code",
   "execution_count": 16,
   "id": "ce0b6b7b-e2e8-43e5-a6d9-0fe4e695cc0c",
   "metadata": {},
   "outputs": [],
   "source": [
    "data = data[~data['type'].isna()].reset_index().drop(columns='index')"
   ]
  },
  {
   "cell_type": "markdown",
   "id": "6946cdc7-f609-4ec9-84c1-7077c024b50f",
   "metadata": {},
   "source": [
    "### Калорийность:"
   ]
  },
  {
   "cell_type": "code",
   "execution_count": 65,
   "id": "4f61e59e-ef68-4cbf-8641-a44faa4e3212",
   "metadata": {},
   "outputs": [
    {
     "data": {
      "image/png": "[encoded data removed]",
      "text/plain": [
       "<Figure size 640x480 with 1 Axes>"
      ]
     },
     "metadata": {},
     "output_type": "display_data"
    }
   ],
   "source": [
    "data['kcal'].hist(bins=50);"
   ]
  },
  {
   "cell_type": "markdown",
   "id": "30cd2732-a67d-49e2-be74-310f7035e64a",
   "metadata": {},
   "source": [
    "### Добавки:"
   ]
  },
  {
   "cell_type": "code",
   "execution_count": 22,
   "id": "39bf7f2d-c410-4b87-91b3-ff88437a6457",
   "metadata": {},
   "outputs": [],
   "source": [
    "def filling(name):    \n",
    "    class Type(StrEnum):\n",
    "        NUTS = \"NUTS\"\n",
    "        BERRIES = \"BERRIES\"\n",
    "        SNACKS = \"SNACKS\"\n",
    "        DESSERT = \"DESSERT\"\n",
    "        EXOTIC = \"EXOTIC\"\n",
    "        NO_FILLING = \"NO_FILLING\"\n",
    "    \n",
    "    class AIOutput(BaseModel):\n",
    "        Types: list[Type]\n",
    "    \n",
    "    text_prompt = \"\"\"\n",
    "        У тебя есть название шоколадки. Определи все начинки, содержащиеся в шоколаде, по категориям, представленным ниже.\n",
    "        То есть отнести все элементы из начинки шоколадки по соответствующим категориям, после чего верни список из всех категорий,\n",
    "        элементы которых встречаются в начинке шоколадки.\n",
    "        \n",
    "        1. NUTS, если начинка содержит орехи, например:\n",
    "        Миндаль, Фундук, Лесной орех, Кешью , Арахис, Фисташки, Грецкий орех\n",
    "        При этом, если начинка является десертной со вкусом ореха, тебе не стоит относить начинку к данной категории.\n",
    "        \n",
    "        2. BERRIES, если начинка содержит ягоды или сухофрукты, например: \n",
    "        Клубника, Малина, Вишня, Черника, Клюква, Изюм  \n",
    "        При этом, если ягода используется в йогуртовой начинке, тебе не стоит относить начинку к данной категории\n",
    "        \n",
    "        3. SNACKS, если начинка содержит печенье, вафли или другие хрустящие элементы, например:  \n",
    "        Печенье, Вафли, Воздушный рис, Хлопья\n",
    "        \n",
    "        4. DESSERT, если начинка содержит йогуртовую или десертную начинку, например: \n",
    "        Йогуртные начинки с разными вкусами, начинки помадка, тирамису, крем-брюле и тд \n",
    "        \n",
    "        5. EXOTIC, если начинка является достаточно экзотической и нечасто встречается в шоколаде, например:\n",
    "        Лаванда, Роза, Мёд, Матча, Тыквенные семечки, Кунжут и т.д.\n",
    "        \n",
    "        6. NO_FILLING, если шоколад не содержит никакой начинки из вышеперечисленных категорий\n",
    "    \n",
    "        Название шоколадки:\n",
    "                {name}\n",
    "    \n",
    "        <FORMAT_INSTRUCTIONS>:\n",
    "                {format_instructions}\n",
    "    \"\"\"\n",
    "    \n",
    "    \n",
    "    model = ChatOpenAI(model=\"gpt-4.1\", api_key=OPENAI_API_KEY)\n",
    "    parser = PydanticOutputParser(pydantic_object=AIOutput)\n",
    "    \n",
    "    prompt = PromptTemplate(\n",
    "        template=text_prompt,\n",
    "        input_variables=[\"name\"],\n",
    "        partial_variables={\n",
    "            \"format_instructions\": parser.get_format_instructions(),\n",
    "        }\n",
    "    )\n",
    "    \n",
    "    chain = prompt | model | parser\n",
    "    \n",
    "    result = chain.invoke({\n",
    "            \"name\": name\n",
    "            })\n",
    "    \n",
    "    ans = []\n",
    "    for t in result.Types:\n",
    "        ans.append(str(t))\n",
    "\n",
    "    return ans"
   ]
  },
  {
   "cell_type": "code",
   "execution_count": 24,
   "id": "943f8350-432d-4da9-af95-f6e1dc9e7c09",
   "metadata": {},
   "outputs": [],
   "source": [
    "# data['filling'] = data['name'].map(lambda x: filling(x))\n",
    "# filling = {data.loc[ind]['name']: data.loc[ind]['filling'] for ind in data.index}\n",
    "# with open('fillings.json', \"w\", encoding=\"utf-8\") as json_file:\n",
    "#     json.dump(filling, json_file, indent=4, ensure_ascii=False)"
   ]
  },
  {
   "cell_type": "code",
   "execution_count": 30,
   "id": "b9ce0823-4a2e-4fce-8631-d10edea301be",
   "metadata": {},
   "outputs": [],
   "source": [
    "with open('fillings.json', \"r\", encoding=\"utf-8\") as json_file:\n",
    "     filling = json.load(json_file)"
   ]
  },
  {
   "cell_type": "code",
   "execution_count": 32,
   "id": "0dac51cd-3e84-40e7-be8b-ae01efa0a917",
   "metadata": {},
   "outputs": [],
   "source": [
    "data['filling'] = data['name'].map(filling)\n",
    "data['filling_NUTS'] = data['filling'].map(lambda x: 1 if 'NUTS' in x else 0)\n",
    "data['filling_BERRIES'] = data['filling'].map(lambda x: 1 if 'BERRIES' in x else 0)\n",
    "data['filling_SNACKS'] = data['filling'].map(lambda x: 1 if 'SNACKS' in x else 0)\n",
    "data['filling_DESSERT'] = data['filling'].map(lambda x: 1 if 'DESSERT' in x else 0)\n",
    "data['filling_EXOTIC'] = data['filling'].map(lambda x: 1 if 'EXOTIC' in x else 0)"
   ]
  },
  {
   "cell_type": "markdown",
   "id": "1b8c3f89-d0db-4f0b-b652-3a4ecef2d16c",
   "metadata": {},
   "source": [
    "### Содержание какао:"
   ]
  },
  {
   "cell_type": "code",
   "execution_count": 35,
   "id": "50418f0c-33b4-4541-9800-7825f211c794",
   "metadata": {},
   "outputs": [
    {
     "data": {
      "text/plain": [
       "16"
      ]
     },
     "execution_count": 35,
     "metadata": {},
     "output_type": "execute_result"
    }
   ],
   "source": [
    "data['cacao'].isna().sum()"
   ]
  },
  {
   "cell_type": "code",
   "execution_count": 37,
   "id": "ed1a5873-0c54-4d64-91ca-c7b87267e3e1",
   "metadata": {
    "scrolled": true
   },
   "outputs": [
    {
     "data": {
      "text/html": [
       "<div>\n",
       "<style scoped>\n",
       "    .dataframe tbody tr th:only-of-type {\n",
       "        vertical-align: middle;\n",
       "    }\n",
       "\n",
       "    .dataframe tbody tr th {\n",
       "        vertical-align: top;\n",
       "    }\n",
       "\n",
       "    .dataframe thead th {\n",
       "        text-align: right;\n",
       "    }\n",
       "</style>\n",
       "<table border=\"1\" class=\"dataframe\">\n",
       "  <thead>\n",
       "    <tr style=\"text-align: right;\">\n",
       "      <th></th>\n",
       "      <th>name</th>\n",
       "      <th>price</th>\n",
       "      <th>brand</th>\n",
       "      <th>rating</th>\n",
       "      <th>kcal</th>\n",
       "      <th>package</th>\n",
       "      <th>type</th>\n",
       "      <th>cacao</th>\n",
       "      <th>Состав</th>\n",
       "      <th>filling</th>\n",
       "      <th>filling2</th>\n",
       "      <th>filling_NUTS</th>\n",
       "      <th>filling_BERRIES</th>\n",
       "      <th>filling_SNACKS</th>\n",
       "      <th>filling_DESSERT</th>\n",
       "      <th>filling_EXOTIC</th>\n",
       "    </tr>\n",
       "  </thead>\n",
       "  <tbody>\n",
       "    <tr>\n",
       "      <th>23</th>\n",
       "      <td>Шоколад White Chocolate белый Schogetten 100г</td>\n",
       "      <td>134.99</td>\n",
       "      <td>Schogetten</td>\n",
       "      <td>4.9</td>\n",
       "      <td>555.0</td>\n",
       "      <td>картонная упаковка</td>\n",
       "      <td>Белый</td>\n",
       "      <td>NaN</td>\n",
       "      <td>Сахар, какао-масло, сухое обезжиренное молоко,...</td>\n",
       "      <td>[NO_FILLING]</td>\n",
       "      <td>[NO_FILLING]</td>\n",
       "      <td>0</td>\n",
       "      <td>0</td>\n",
       "      <td>0</td>\n",
       "      <td>0</td>\n",
       "      <td>0</td>\n",
       "    </tr>\n",
       "    <tr>\n",
       "      <th>33</th>\n",
       "      <td>Шоколад Aerated белый пористый Alpen Gold 75г</td>\n",
       "      <td>89.99</td>\n",
       "      <td>Alpen Gold</td>\n",
       "      <td>4.8</td>\n",
       "      <td>527.0</td>\n",
       "      <td>флоупак</td>\n",
       "      <td>Белый</td>\n",
       "      <td>NaN</td>\n",
       "      <td>Сахар, масло какао, сыворотка сухая молочная, ...</td>\n",
       "      <td>[NO_FILLING]</td>\n",
       "      <td>[NO_FILLING]</td>\n",
       "      <td>0</td>\n",
       "      <td>0</td>\n",
       "      <td>0</td>\n",
       "      <td>0</td>\n",
       "      <td>0</td>\n",
       "    </tr>\n",
       "    <tr>\n",
       "      <th>39</th>\n",
       "      <td>Шоколад белый Schogetten Chai Latte 100г</td>\n",
       "      <td>149.99</td>\n",
       "      <td>Schogetten</td>\n",
       "      <td>4.2</td>\n",
       "      <td>561.0</td>\n",
       "      <td>картонная упаковка</td>\n",
       "      <td>Белый</td>\n",
       "      <td>NaN</td>\n",
       "      <td>Сахар, пальмовый жир, сухое цельное молоко, ка...</td>\n",
       "      <td>[DESSERT, EXOTIC]</td>\n",
       "      <td>[DESSERT, EXOTIC]</td>\n",
       "      <td>0</td>\n",
       "      <td>0</td>\n",
       "      <td>0</td>\n",
       "      <td>1</td>\n",
       "      <td>1</td>\n",
       "    </tr>\n",
       "    <tr>\n",
       "      <th>55</th>\n",
       "      <td>Шоколад Клубничный йогурт Schogetten 100г</td>\n",
       "      <td>119.99</td>\n",
       "      <td>Schogetten</td>\n",
       "      <td>4.8</td>\n",
       "      <td>563.0</td>\n",
       "      <td>картонная упаковка</td>\n",
       "      <td>Молочный</td>\n",
       "      <td>NaN</td>\n",
       "      <td>Сахар, пальмовый жир, какао-масло, сухое йогур...</td>\n",
       "      <td>[DESSERT]</td>\n",
       "      <td>[DESSERT]</td>\n",
       "      <td>0</td>\n",
       "      <td>0</td>\n",
       "      <td>0</td>\n",
       "      <td>1</td>\n",
       "      <td>0</td>\n",
       "    </tr>\n",
       "    <tr>\n",
       "      <th>58</th>\n",
       "      <td>Шоколад молочный Popcorn Schogetten 100г</td>\n",
       "      <td>149.99</td>\n",
       "      <td>Schogetten</td>\n",
       "      <td>4.7</td>\n",
       "      <td>554.0</td>\n",
       "      <td>картонная упаковка</td>\n",
       "      <td>Молочный</td>\n",
       "      <td>NaN</td>\n",
       "      <td>Сахар, пальмовый жир, сухое цельное молоко, ка...</td>\n",
       "      <td>[SNACKS]</td>\n",
       "      <td>[SNACKS]</td>\n",
       "      <td>0</td>\n",
       "      <td>0</td>\n",
       "      <td>1</td>\n",
       "      <td>0</td>\n",
       "      <td>0</td>\n",
       "    </tr>\n",
       "    <tr>\n",
       "      <th>59</th>\n",
       "      <td>Шоколад молочный Соленая карамель Ritter Sport...</td>\n",
       "      <td>159.99</td>\n",
       "      <td>Ritter Sport</td>\n",
       "      <td>4.8</td>\n",
       "      <td>535.0</td>\n",
       "      <td>флоупак</td>\n",
       "      <td>Молочный</td>\n",
       "      <td>NaN</td>\n",
       "      <td>Сахар, масло какао, какао тертое, соленая кара...</td>\n",
       "      <td>[DESSERT]</td>\n",
       "      <td>[DESSERT]</td>\n",
       "      <td>0</td>\n",
       "      <td>0</td>\n",
       "      <td>0</td>\n",
       "      <td>1</td>\n",
       "      <td>0</td>\n",
       "    </tr>\n",
       "    <tr>\n",
       "      <th>60</th>\n",
       "      <td>Шоколад белый с лимонной начинкой Ritter Sport...</td>\n",
       "      <td>169.99</td>\n",
       "      <td>Ritter Sport</td>\n",
       "      <td>4.7</td>\n",
       "      <td>589.0</td>\n",
       "      <td>флоупак</td>\n",
       "      <td>Белый</td>\n",
       "      <td>NaN</td>\n",
       "      <td>Шоколад белый (сахар, масло какао, сухое цельн...</td>\n",
       "      <td>[EXOTIC]</td>\n",
       "      <td>[EXOTIC]</td>\n",
       "      <td>0</td>\n",
       "      <td>0</td>\n",
       "      <td>0</td>\n",
       "      <td>0</td>\n",
       "      <td>1</td>\n",
       "    </tr>\n",
       "    <tr>\n",
       "      <th>72</th>\n",
       "      <td>Шоколад молочный с ореховой нугой Schogetten 100г</td>\n",
       "      <td>149.99</td>\n",
       "      <td>Schogetten</td>\n",
       "      <td>4.7</td>\n",
       "      <td>547.0</td>\n",
       "      <td>картонная упаковка</td>\n",
       "      <td>Молочный</td>\n",
       "      <td>NaN</td>\n",
       "      <td>Сахар, масло какао, паста из фундука (13%), су...</td>\n",
       "      <td>[DESSERT]</td>\n",
       "      <td>[DESSERT]</td>\n",
       "      <td>0</td>\n",
       "      <td>0</td>\n",
       "      <td>0</td>\n",
       "      <td>1</td>\n",
       "      <td>0</td>\n",
       "    </tr>\n",
       "    <tr>\n",
       "      <th>81</th>\n",
       "      <td>Шоколад белый Schogetten Blonde Almond 100г</td>\n",
       "      <td>149.99</td>\n",
       "      <td>Schogetten</td>\n",
       "      <td>NaN</td>\n",
       "      <td>553.0</td>\n",
       "      <td>картонная упаковка</td>\n",
       "      <td>Белый</td>\n",
       "      <td>NaN</td>\n",
       "      <td>Сахар, какао-масло, сухое цельное молоко, минд...</td>\n",
       "      <td>[NUTS]</td>\n",
       "      <td>[NUTS]</td>\n",
       "      <td>1</td>\n",
       "      <td>0</td>\n",
       "      <td>0</td>\n",
       "      <td>0</td>\n",
       "      <td>0</td>\n",
       "    </tr>\n",
       "    <tr>\n",
       "      <th>85</th>\n",
       "      <td>Шоколад молочный с кусочками кренделя Ritter S...</td>\n",
       "      <td>169.99</td>\n",
       "      <td>Ritter Sport</td>\n",
       "      <td>NaN</td>\n",
       "      <td>518.0</td>\n",
       "      <td>флоупак</td>\n",
       "      <td>Молочный</td>\n",
       "      <td>NaN</td>\n",
       "      <td>Шоколад молочный (сахар, масло какао, какао те...</td>\n",
       "      <td>[SNACKS]</td>\n",
       "      <td>[SNACKS]</td>\n",
       "      <td>0</td>\n",
       "      <td>0</td>\n",
       "      <td>1</td>\n",
       "      <td>0</td>\n",
       "      <td>0</td>\n",
       "    </tr>\n",
       "    <tr>\n",
       "      <th>89</th>\n",
       "      <td>Шоколад молочный взрывная карамель Алёнка 75г</td>\n",
       "      <td>109.99</td>\n",
       "      <td>Алёнка</td>\n",
       "      <td>4.8</td>\n",
       "      <td>540.0</td>\n",
       "      <td>бумажная упаковка</td>\n",
       "      <td>Молочный</td>\n",
       "      <td>NaN</td>\n",
       "      <td>Сахар, сухое цельное молоко, масло какао, кака...</td>\n",
       "      <td>[DESSERT]</td>\n",
       "      <td>[DESSERT]</td>\n",
       "      <td>0</td>\n",
       "      <td>0</td>\n",
       "      <td>0</td>\n",
       "      <td>1</td>\n",
       "      <td>0</td>\n",
       "    </tr>\n",
       "    <tr>\n",
       "      <th>93</th>\n",
       "      <td>Шоколад темный Schogetten Blonde Pure 100г</td>\n",
       "      <td>149.99</td>\n",
       "      <td>Schogetten</td>\n",
       "      <td>NaN</td>\n",
       "      <td>541.0</td>\n",
       "      <td>картонная упаковка</td>\n",
       "      <td>Темный</td>\n",
       "      <td>NaN</td>\n",
       "      <td>Сахар, какао-масло, сухое цельное молоко, суха...</td>\n",
       "      <td>[NO_FILLING]</td>\n",
       "      <td>[NO_FILLING]</td>\n",
       "      <td>0</td>\n",
       "      <td>0</td>\n",
       "      <td>0</td>\n",
       "      <td>0</td>\n",
       "      <td>0</td>\n",
       "    </tr>\n",
       "    <tr>\n",
       "      <th>95</th>\n",
       "      <td>Шоколад молочный с молоком и ванилью Ritter Sp...</td>\n",
       "      <td>169.99</td>\n",
       "      <td>Ritter Sport</td>\n",
       "      <td>NaN</td>\n",
       "      <td>563.0</td>\n",
       "      <td>флоупак</td>\n",
       "      <td>Молочный</td>\n",
       "      <td>NaN</td>\n",
       "      <td>Шоколад молочный (сахар, масло какао, какао те...</td>\n",
       "      <td>[NO_FILLING]</td>\n",
       "      <td>[NO_FILLING]</td>\n",
       "      <td>0</td>\n",
       "      <td>0</td>\n",
       "      <td>0</td>\n",
       "      <td>0</td>\n",
       "      <td>0</td>\n",
       "    </tr>\n",
       "    <tr>\n",
       "      <th>111</th>\n",
       "      <td>Шоколад со злаками Kinder Chocolate 4шт*23.5г</td>\n",
       "      <td>239.99</td>\n",
       "      <td>Kinder</td>\n",
       "      <td>4.9</td>\n",
       "      <td>561.0</td>\n",
       "      <td>флоупак</td>\n",
       "      <td>Молочный</td>\n",
       "      <td>NaN</td>\n",
       "      <td>Молочный шоколад (сахар, масло какао, сухое це...</td>\n",
       "      <td>[SNACKS]</td>\n",
       "      <td>[SNACKS]</td>\n",
       "      <td>0</td>\n",
       "      <td>0</td>\n",
       "      <td>1</td>\n",
       "      <td>0</td>\n",
       "      <td>0</td>\n",
       "    </tr>\n",
       "    <tr>\n",
       "      <th>128</th>\n",
       "      <td>Шоколад белый Schogetten Blonde Caramel 100г</td>\n",
       "      <td>149.99</td>\n",
       "      <td>Schogetten</td>\n",
       "      <td>4.8</td>\n",
       "      <td>542.0</td>\n",
       "      <td>картонная упаковка</td>\n",
       "      <td>Белый</td>\n",
       "      <td>NaN</td>\n",
       "      <td>Сахар, какао-масло, сухое цельное молоко, сухи...</td>\n",
       "      <td>[DESSERT]</td>\n",
       "      <td>[DESSERT]</td>\n",
       "      <td>0</td>\n",
       "      <td>0</td>\n",
       "      <td>0</td>\n",
       "      <td>1</td>\n",
       "      <td>0</td>\n",
       "    </tr>\n",
       "    <tr>\n",
       "      <th>134</th>\n",
       "      <td>Шоколад молочный с фундуком Аленка 75г</td>\n",
       "      <td>119.99</td>\n",
       "      <td>Алёнка</td>\n",
       "      <td>NaN</td>\n",
       "      <td>550.0</td>\n",
       "      <td>бумажная упаковка</td>\n",
       "      <td>Молочный</td>\n",
       "      <td>NaN</td>\n",
       "      <td>Сахар, масло, какао тертое, ядро ореха фундука...</td>\n",
       "      <td>[NUTS]</td>\n",
       "      <td>[NUTS]</td>\n",
       "      <td>1</td>\n",
       "      <td>0</td>\n",
       "      <td>0</td>\n",
       "      <td>0</td>\n",
       "      <td>0</td>\n",
       "    </tr>\n",
       "  </tbody>\n",
       "</table>\n",
       "</div>"
      ],
      "text/plain": [
       "                                                  name   price         brand  \\\n",
       "23       Шоколад White Chocolate белый Schogetten 100г  134.99    Schogetten   \n",
       "33       Шоколад Aerated белый пористый Alpen Gold 75г   89.99    Alpen Gold   \n",
       "39            Шоколад белый Schogetten Chai Latte 100г  149.99    Schogetten   \n",
       "55           Шоколад Клубничный йогурт Schogetten 100г  119.99    Schogetten   \n",
       "58            Шоколад молочный Popcorn Schogetten 100г  149.99    Schogetten   \n",
       "59   Шоколад молочный Соленая карамель Ritter Sport...  159.99  Ritter Sport   \n",
       "60   Шоколад белый с лимонной начинкой Ritter Sport...  169.99  Ritter Sport   \n",
       "72   Шоколад молочный с ореховой нугой Schogetten 100г  149.99    Schogetten   \n",
       "81         Шоколад белый Schogetten Blonde Almond 100г  149.99    Schogetten   \n",
       "85   Шоколад молочный с кусочками кренделя Ritter S...  169.99  Ritter Sport   \n",
       "89       Шоколад молочный взрывная карамель Алёнка 75г  109.99        Алёнка   \n",
       "93          Шоколад темный Schogetten Blonde Pure 100г  149.99    Schogetten   \n",
       "95   Шоколад молочный с молоком и ванилью Ritter Sp...  169.99  Ritter Sport   \n",
       "111      Шоколад со злаками Kinder Chocolate 4шт*23.5г  239.99        Kinder   \n",
       "128       Шоколад белый Schogetten Blonde Caramel 100г  149.99    Schogetten   \n",
       "134             Шоколад молочный с фундуком Аленка 75г  119.99        Алёнка   \n",
       "\n",
       "     rating   kcal             package      type  cacao  \\\n",
       "23      4.9  555.0  картонная упаковка     Белый    NaN   \n",
       "33      4.8  527.0             флоупак     Белый    NaN   \n",
       "39      4.2  561.0  картонная упаковка     Белый    NaN   \n",
       "55      4.8  563.0  картонная упаковка  Молочный    NaN   \n",
       "58      4.7  554.0  картонная упаковка  Молочный    NaN   \n",
       "59      4.8  535.0             флоупак  Молочный    NaN   \n",
       "60      4.7  589.0             флоупак     Белый    NaN   \n",
       "72      4.7  547.0  картонная упаковка  Молочный    NaN   \n",
       "81      NaN  553.0  картонная упаковка     Белый    NaN   \n",
       "85      NaN  518.0             флоупак  Молочный    NaN   \n",
       "89      4.8  540.0   бумажная упаковка  Молочный    NaN   \n",
       "93      NaN  541.0  картонная упаковка    Темный    NaN   \n",
       "95      NaN  563.0             флоупак  Молочный    NaN   \n",
       "111     4.9  561.0             флоупак  Молочный    NaN   \n",
       "128     4.8  542.0  картонная упаковка     Белый    NaN   \n",
       "134     NaN  550.0   бумажная упаковка  Молочный    NaN   \n",
       "\n",
       "                                                Состав            filling  \\\n",
       "23   Сахар, какао-масло, сухое обезжиренное молоко,...       [NO_FILLING]   \n",
       "33   Сахар, масло какао, сыворотка сухая молочная, ...       [NO_FILLING]   \n",
       "39   Сахар, пальмовый жир, сухое цельное молоко, ка...  [DESSERT, EXOTIC]   \n",
       "55   Сахар, пальмовый жир, какао-масло, сухое йогур...          [DESSERT]   \n",
       "58   Сахар, пальмовый жир, сухое цельное молоко, ка...           [SNACKS]   \n",
       "59   Сахар, масло какао, какао тертое, соленая кара...          [DESSERT]   \n",
       "60   Шоколад белый (сахар, масло какао, сухое цельн...           [EXOTIC]   \n",
       "72   Сахар, масло какао, паста из фундука (13%), су...          [DESSERT]   \n",
       "81   Сахар, какао-масло, сухое цельное молоко, минд...             [NUTS]   \n",
       "85   Шоколад молочный (сахар, масло какао, какао те...           [SNACKS]   \n",
       "89   Сахар, сухое цельное молоко, масло какао, кака...          [DESSERT]   \n",
       "93   Сахар, какао-масло, сухое цельное молоко, суха...       [NO_FILLING]   \n",
       "95   Шоколад молочный (сахар, масло какао, какао те...       [NO_FILLING]   \n",
       "111  Молочный шоколад (сахар, масло какао, сухое це...           [SNACKS]   \n",
       "128  Сахар, какао-масло, сухое цельное молоко, сухи...          [DESSERT]   \n",
       "134  Сахар, масло, какао тертое, ядро ореха фундука...             [NUTS]   \n",
       "\n",
       "              filling2  filling_NUTS  filling_BERRIES  filling_SNACKS  \\\n",
       "23        [NO_FILLING]             0                0               0   \n",
       "33        [NO_FILLING]             0                0               0   \n",
       "39   [DESSERT, EXOTIC]             0                0               0   \n",
       "55           [DESSERT]             0                0               0   \n",
       "58            [SNACKS]             0                0               1   \n",
       "59           [DESSERT]             0                0               0   \n",
       "60            [EXOTIC]             0                0               0   \n",
       "72           [DESSERT]             0                0               0   \n",
       "81              [NUTS]             1                0               0   \n",
       "85            [SNACKS]             0                0               1   \n",
       "89           [DESSERT]             0                0               0   \n",
       "93        [NO_FILLING]             0                0               0   \n",
       "95        [NO_FILLING]             0                0               0   \n",
       "111           [SNACKS]             0                0               1   \n",
       "128          [DESSERT]             0                0               0   \n",
       "134             [NUTS]             1                0               0   \n",
       "\n",
       "     filling_DESSERT  filling_EXOTIC  \n",
       "23                 0               0  \n",
       "33                 0               0  \n",
       "39                 1               1  \n",
       "55                 1               0  \n",
       "58                 0               0  \n",
       "59                 1               0  \n",
       "60                 0               1  \n",
       "72                 1               0  \n",
       "81                 0               0  \n",
       "85                 0               0  \n",
       "89                 1               0  \n",
       "93                 0               0  \n",
       "95                 0               0  \n",
       "111                0               0  \n",
       "128                1               0  \n",
       "134                0               0  "
      ]
     },
     "execution_count": 37,
     "metadata": {},
     "output_type": "execute_result"
    }
   ],
   "source": [
    "data[data['cacao'].isna()]"
   ]
  },
  {
   "cell_type": "code",
   "execution_count": 43,
   "id": "2a176bee-abee-49e6-828b-a79941b0e6a0",
   "metadata": {},
   "outputs": [],
   "source": [
    "def fillna_cacao(row):\n",
    "    if row['type'] == 'Белый':\n",
    "        return 0\n",
    "    if row['type'] == 'Молочный' and row['brand'] == 'Schogetten':\n",
    "        return 30\n",
    "    if row['type'] == 'Молочный' and row['brand'] == 'Ritter Sport':\n",
    "        return 33\n",
    "    if row['type'] == 'Молочный' and row['brand'] == 'Алёнка':\n",
    "        return 30\n",
    "    if row['brand'] == 'Kinder':\n",
    "        return 13\n",
    "    if row['type'] == 'Темный' and row['brand'] == 'Schogetten':\n",
    "        return 50"
   ]
  },
  {
   "cell_type": "code",
   "execution_count": 51,
   "id": "2e674afa-5149-4af8-bd57-994c31560ddd",
   "metadata": {},
   "outputs": [],
   "source": [
    "data['cacao'] = data.apply(lambda x: fillna_cacao(x) if pd.isna(x['cacao']) else x['cacao'], axis=1)"
   ]
  },
  {
   "cell_type": "code",
   "execution_count": 55,
   "id": "a02813d3-f123-4957-a2cc-8f6d410514b8",
   "metadata": {},
   "outputs": [
    {
     "data": {
      "text/plain": [
       "0"
      ]
     },
     "execution_count": 55,
     "metadata": {},
     "output_type": "execute_result"
    }
   ],
   "source": [
    "data['cacao'].isna().sum()"
   ]
  },
  {
   "cell_type": "code",
   "execution_count": 63,
   "id": "cb6666ef-4a8e-4271-ba72-5d7c9a9f0d12",
   "metadata": {},
   "outputs": [
    {
     "data": {
      "image/png": "[encoded data removed]",
      "text/plain": [
       "<Figure size 640x480 with 1 Axes>"
      ]
     },
     "metadata": {},
     "output_type": "display_data"
    }
   ],
   "source": [
    "data['cacao'].hist(bins=20);"
   ]
  },
  {
   "cell_type": "markdown",
   "id": "8a005e58-a7e3-4829-9a55-d1059523d97f",
   "metadata": {},
   "source": [
    "### Упаковка:"
   ]
  },
  {
   "cell_type": "code",
   "execution_count": 71,
   "id": "a94c9a95-ff74-4132-8a9f-f87afdb9282e",
   "metadata": {},
   "outputs": [
    {
     "data": {
      "text/plain": [
       "package\n",
       "флоупак               85\n",
       "картонная упаковка    32\n",
       "бумажная упаковка     18\n",
       "Name: count, dtype: int64"
      ]
     },
     "execution_count": 71,
     "metadata": {},
     "output_type": "execute_result"
    }
   ],
   "source": [
    "data['package'].value_counts(dropna=False)"
   ]
  },
  {
   "cell_type": "code",
   "execution_count": 73,
   "id": "d6be752e-8161-4662-9469-3f45966957c6",
   "metadata": {},
   "outputs": [
    {
     "data": {
      "text/plain": [
       "0"
      ]
     },
     "execution_count": 73,
     "metadata": {},
     "output_type": "execute_result"
    }
   ],
   "source": [
    "data['package'].isna().sum()"
   ]
  },
  {
   "cell_type": "markdown",
   "id": "4cfcb0be-8b51-4d85-937c-f85a1107de60",
   "metadata": {},
   "source": [
    "### Рейтинг:"
   ]
  },
  {
   "cell_type": "code",
   "execution_count": 79,
   "id": "4c3e2c11-2f04-4a2e-bd90-459015402b40",
   "metadata": {},
   "outputs": [
    {
     "data": {
      "text/plain": [
       "8"
      ]
     },
     "execution_count": 79,
     "metadata": {},
     "output_type": "execute_result"
    }
   ],
   "source": [
    "data['rating'].isna().sum()"
   ]
  },
  {
   "cell_type": "code",
   "execution_count": 87,
   "id": "7b3086e6-8079-497f-afd4-fefc20245044",
   "metadata": {},
   "outputs": [
    {
     "data": {
      "image/png": "[encoded data removed]",
      "text/plain": [
       "<Figure size 640x480 with 1 Axes>"
      ]
     },
     "metadata": {},
     "output_type": "display_data"
    }
   ],
   "source": [
    "data['rating'].hist(bins=30);"
   ]
  },
  {
   "cell_type": "code",
   "execution_count": 93,
   "id": "d5f367fe-c770-4a60-a4ef-dc1f8302f8af",
   "metadata": {},
   "outputs": [],
   "source": [
    "data['rating'] = data['rating'].fillna(data['rating'].mode())"
   ]
  },
  {
   "cell_type": "markdown",
   "id": "f1bb09f8-d2de-41e3-9967-efae0463c961",
   "metadata": {},
   "source": [
    "## Наличие эмульгаторов:"
   ]
  },
  {
   "cell_type": "code",
   "execution_count": 117,
   "id": "138c461d-d691-44db-a0fd-dd0f1ed38288",
   "metadata": {},
   "outputs": [],
   "source": [
    "def emulsifier(text):\n",
    "    for i in range(len(text) - 1):\n",
    "        if text[i] == 'Е' and text[i + 1] in '1234567890':\n",
    "            return 1\n",
    "    return 0"
   ]
  },
  {
   "cell_type": "code",
   "execution_count": 119,
   "id": "7a56fa1f-e097-4a9d-8241-680c7f852265",
   "metadata": {},
   "outputs": [],
   "source": [
    "data['emulsifiers'] = data['Состав'].map(lambda x: emulsifier(x))"
   ]
  },
  {
   "cell_type": "code",
   "execution_count": 123,
   "id": "af436697-09b2-4e52-a500-7800feadcdcc",
   "metadata": {},
   "outputs": [
    {
     "data": {
      "text/plain": [
       "Index(['name', 'price', 'brand', 'rating', 'kcal', 'package', 'type', 'cacao',\n",
       "       'Состав', 'filling', 'filling2', 'filling_NUTS', 'filling_BERRIES',\n",
       "       'filling_SNACKS', 'filling_DESSERT', 'filling_EXOTIC', 'emulsifiers'],\n",
       "      dtype='object')"
      ]
     },
     "execution_count": 123,
     "metadata": {},
     "output_type": "execute_result"
    }
   ],
   "source": [
    "data.columns"
   ]
  },
  {
   "cell_type": "code",
   "execution_count": 129,
   "id": "cc8afba9-45aa-471d-b515-882585dcab5b",
   "metadata": {},
   "outputs": [],
   "source": [
    "data[['price', 'brand', 'rating', 'kcal', 'package', 'type', 'cacao', 'filling_NUTS', 'filling_BERRIES', \\\n",
    "       'filling_SNACKS', 'filling_DESSERT', 'filling_EXOTIC', 'emulsifiers']].to_csv('chocolate_data.csv', index=False)"
   ]
  },
  {
   "cell_type": "markdown",
   "id": "af04c8fc-8380-4645-84b5-66b5dafa33ce",
   "metadata": {},
   "source": [
    "### Цена."
   ]
  },
  {
   "cell_type": "code",
   "execution_count": 146,
   "id": "a9f35a43-b8c8-4c92-812b-613ca0abdd1c",
   "metadata": {},
   "outputs": [
    {
     "data": {
      "image/png": "[encoded data removed]",
      "text/plain": [
       "<Figure size 640x480 with 1 Axes>"
      ]
     },
     "metadata": {},
     "output_type": "display_data"
    }
   ],
   "source": [
    "data['price'].hist(bins=30);"
   ]
  },
  {
   "cell_type": "code",
   "execution_count": null,
   "id": "100b16d3-3a5d-4ef5-a24f-f2bb1a43afce",
   "metadata": {},
   "outputs": [],
   "source": []
  }
 ],
 "metadata": {
  "kernelspec": {
   "display_name": "Python [conda env:base] *",
   "language": "python",
   "name": "conda-base-py"
  },
  "language_info": {
   "codemirror_mode": {
    "name": "ipython",
    "version": 3
   },
   "file_extension": ".py",
   "mimetype": "text/x-python",
   "name": "python",
   "nbconvert_exporter": "python",
   "pygments_lexer": "ipython3",
   "version": "3.12.2"
  }
 },
 "nbformat": 4,
 "nbformat_minor": 5
}
